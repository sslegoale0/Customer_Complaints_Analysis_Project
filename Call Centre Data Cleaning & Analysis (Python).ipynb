{
 "cells": [
  {
   "cell_type": "code",
   "execution_count": null,
   "id": "bb6c9c36-ff70-49c7-910b-60a75728b8ae",
   "metadata": {},
   "outputs": [],
   "source": [
    "import numpy as np\n",
    "import pandas as pd\n",
    "import matplotlib.pyplot as plt\n",
    "import seaborn as sns"
   ]
  },
  {
   "cell_type": "code",
   "execution_count": null,
   "id": "ffcb17d0-a54d-4a1e-89a4-3feae18a6caa",
   "metadata": {},
   "outputs": [],
   "source": [
    "calls = pd.read_excel(\"Call Centre Data.xlsx\")"
   ]
  },
  {
   "cell_type": "code",
   "execution_count": null,
   "id": "fde6fee7-f262-4f3c-a6b9-5dc56a752f8a",
   "metadata": {},
   "outputs": [],
   "source": [
    "calls.head()"
   ]
  },
  {
   "cell_type": "code",
   "execution_count": null,
   "id": "b5042c23-fbaf-4a2c-bf57-a308e94c399d",
   "metadata": {},
   "outputs": [],
   "source": [
    "calls.info"
   ]
  }
 ],
 "metadata": {
  "kernelspec": {
   "display_name": "Python 3 (ipykernel)",
   "language": "python",
   "name": "python3"
  },
  "language_info": {
   "codemirror_mode": {
    "name": "ipython",
    "version": 3
   },
   "file_extension": ".py",
   "mimetype": "text/x-python",
   "name": "python",
   "nbconvert_exporter": "python",
   "pygments_lexer": "ipython3",
   "version": "3.12.4"
  }
 },
 "nbformat": 4,
 "nbformat_minor": 5
}
