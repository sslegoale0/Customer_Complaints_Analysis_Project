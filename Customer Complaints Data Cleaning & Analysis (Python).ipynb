{
 "cells": [
  {
   "cell_type": "code",
   "execution_count": null,
   "id": "34d7dc56-dd68-4816-adc3-36670c8b6861",
   "metadata": {},
   "outputs": [],
   "source": [
    "import numpy as np\n",
    "import pandas as pd\n",
    "import matplotlib.pyplot as plt\n",
    "import seaborn as sns"
   ]
  },
  {
   "cell_type": "code",
   "execution_count": null,
   "id": "9f2e842d-6cc5-4412-b662-02726e21f0dd",
   "metadata": {},
   "outputs": [],
   "source": [
    "complaints = pd.read_excel(\"Customrer Complaints Data.xlsx\")"
   ]
  },
  {
   "cell_type": "code",
   "execution_count": null,
   "id": "9a2c10b3-adcf-4e16-81c1-34d4fc690055",
   "metadata": {},
   "outputs": [],
   "source": [
    "complaints.head()"
   ]
  },
  {
   "cell_type": "code",
   "execution_count": null,
   "id": "4b34b33a-8b95-4676-9aa8-63e0f3c77b2e",
   "metadata": {},
   "outputs": [],
   "source": [
    "complaints.info"
   ]
  }
 ],
 "metadata": {
  "kernelspec": {
   "display_name": "Python 3 (ipykernel)",
   "language": "python",
   "name": "python3"
  },
  "language_info": {
   "codemirror_mode": {
    "name": "ipython",
    "version": 3
   },
   "file_extension": ".py",
   "mimetype": "text/x-python",
   "name": "python",
   "nbconvert_exporter": "python",
   "pygments_lexer": "ipython3",
   "version": "3.12.4"
  }
 },
 "nbformat": 4,
 "nbformat_minor": 5
}
