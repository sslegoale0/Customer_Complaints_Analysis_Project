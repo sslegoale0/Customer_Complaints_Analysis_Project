{
 "cells": [
  {
   "cell_type": "markdown",
   "id": "e026d648-0b16-46d6-866f-824a7f39dd62",
   "metadata": {},
   "source": [
    "## Customer Complaints Data Cleaning."
   ]
  },
  {
   "cell_type": "markdown",
   "id": "753967b3-dbf6-4fb4-960e-65b8a8d1e09e",
   "metadata": {},
   "source": [
    "#### Importing python libraries for data analysis."
   ]
  },
  {
   "cell_type": "code",
   "execution_count": null,
   "id": "34d7dc56-dd68-4816-adc3-36670c8b6861",
   "metadata": {},
   "outputs": [],
   "source": [
    "import numpy as np\n",
    "import pandas as pd\n",
    "import matplotlib.pyplot as plt\n",
    "import seaborn as sns"
   ]
  },
  {
   "cell_type": "markdown",
   "id": "a8942143-d577-47d5-8075-1b035875a485",
   "metadata": {},
   "source": [
    "#### Reading in customer complaints excel data into python."
   ]
  },
  {
   "cell_type": "code",
   "execution_count": null,
   "id": "9f2e842d-6cc5-4412-b662-02726e21f0dd",
   "metadata": {},
   "outputs": [],
   "source": [
    "complaints = pd.read_excel(\"Customer Complaints Data.xlsx\")"
   ]
  },
  {
   "cell_type": "markdown",
   "id": "00dfff73-a62a-4aa0-9047-db3ead65cde8",
   "metadata": {},
   "source": [
    "#### First five rows of the dataframe"
   ]
  },
  {
   "cell_type": "code",
   "execution_count": null,
   "id": "9a2c10b3-adcf-4e16-81c1-34d4fc690055",
   "metadata": {},
   "outputs": [],
   "source": [
    "complaints.head()"
   ]
  },
  {
   "cell_type": "markdown",
   "id": "c079cb11-5172-47ea-92a2-fc7a9161ff47",
   "metadata": {},
   "source": [
    "#### Number of non-null values and data types for each column."
   ]
  },
  {
   "cell_type": "code",
   "execution_count": null,
   "id": "4b34b33a-8b95-4676-9aa8-63e0f3c77b2e",
   "metadata": {},
   "outputs": [],
   "source": [
    "complaints.info()"
   ]
  },
  {
   "cell_type": "markdown",
   "id": "26543690-17e7-46d9-ae62-00639b335bdb",
   "metadata": {},
   "source": [
    "### 1. Removing duplicated rows."
   ]
  },
  {
   "cell_type": "code",
   "execution_count": null,
   "id": "dd61b359-7367-4fc4-a4c2-587e597a8d39",
   "metadata": {},
   "outputs": [],
   "source": [
    "complaints[\"Complaint ID\"].nunique()"
   ]
  },
  {
   "cell_type": "markdown",
   "id": "3d53af57-a88b-49e6-bd12-896f6839c634",
   "metadata": {},
   "source": [
    "### 2. Formatting the data"
   ]
  },
  {
   "cell_type": "code",
   "execution_count": null,
   "id": "7ddaa09c-7ee8-4320-8d3f-6ac58d1040e2",
   "metadata": {},
   "outputs": [],
   "source": [
    "complaints.columns"
   ]
  },
  {
   "cell_type": "code",
   "execution_count": null,
   "id": "4eacb9cb-60ed-4ecc-a428-fb3d8f312154",
   "metadata": {},
   "outputs": [],
   "source": [
    "complaints[\"Company\"].unique()"
   ]
  },
  {
   "cell_type": "code",
   "execution_count": null,
   "id": "460bbe6a-733c-40c3-bc45-d39e14bb9e99",
   "metadata": {},
   "outputs": [],
   "source": [
    "complaints[\"Company\"].nunique()"
   ]
  },
  {
   "cell_type": "code",
   "execution_count": null,
   "id": "f8060d60-74e9-4f46-a469-cccc32b025be",
   "metadata": {},
   "outputs": [],
   "source": [
    "complaints[\"Company public response\"].unique()"
   ]
  },
  {
   "cell_type": "code",
   "execution_count": null,
   "id": "fc5676ce-e65c-42bb-bf94-00875f2bf465",
   "metadata": {},
   "outputs": [],
   "source": [
    "complaints[\"Company response to consumer\"].unique()"
   ]
  },
  {
   "cell_type": "markdown",
   "id": "0d992068-f5aa-4252-b861-494dfeceba13",
   "metadata": {},
   "source": [
    "#### Grouping all closed complaints to \"Closed\" and in progress to \"Pending\"."
   ]
  },
  {
   "cell_type": "code",
   "execution_count": null,
   "id": "da4166d8-2af7-4cc5-9487-4b6c3f721083",
   "metadata": {},
   "outputs": [],
   "source": [
    "complaints[\"Progress\"] = np.where(complaints[\"Company response to consumer\"].str.contains(\"Closed\"), \"Closed\", np.where(complaints[\"Company response to consumer\"] == \"Untimely response\", \"Closed\", \"Pending\"))"
   ]
  },
  {
   "cell_type": "code",
   "execution_count": null,
   "id": "86db31c5-0a63-4644-9896-2bc3441cb69e",
   "metadata": {},
   "outputs": [],
   "source": [
    "complaints[[\"Company response to consumer\", \"Progress\"]].drop_duplicates(\"Company response to consumer\")"
   ]
  },
  {
   "cell_type": "code",
   "execution_count": null,
   "id": "99167a5d-d6df-4992-9b09-d026a190c703",
   "metadata": {},
   "outputs": [],
   "source": [
    "complaints[\"Consumer consent provided?\"].unique()"
   ]
  },
  {
   "cell_type": "code",
   "execution_count": null,
   "id": "020aa8ae-3227-48ae-a75f-a1563ad3542c",
   "metadata": {},
   "outputs": [],
   "source": [
    "complaints[\"Consumer disputed?\"].unique()"
   ]
  },
  {
   "cell_type": "code",
   "execution_count": null,
   "id": "e58dcd28-0ba5-4ade-9376-694e9cbeb5d2",
   "metadata": {},
   "outputs": [],
   "source": [
    "complaints[\"Date Received\"].unique()"
   ]
  },
  {
   "cell_type": "code",
   "execution_count": null,
   "id": "88db5f10-f84d-4a33-baf8-ea6a6589db87",
   "metadata": {},
   "outputs": [],
   "source": [
    "complaints[\"Date Submitted\"].unique()"
   ]
  },
  {
   "cell_type": "code",
   "execution_count": null,
   "id": "5a36dda6-1658-49c0-9f34-d9c48773762e",
   "metadata": {},
   "outputs": [],
   "source": [
    "complaints[\"Issue\"].unique()"
   ]
  },
  {
   "cell_type": "code",
   "execution_count": null,
   "id": "40117cef-adc6-4f8d-9b43-b6d0028154a9",
   "metadata": {},
   "outputs": [],
   "source": [
    "complaints[\"Product\"].sort_values().unique()"
   ]
  },
  {
   "cell_type": "markdown",
   "id": "dd3f2a98-85cd-4bb4-92bd-aec9a31dc6ca",
   "metadata": {},
   "source": [
    "#### Creating a function to group various Product complaints into a Service columns."
   ]
  },
  {
   "cell_type": "code",
   "execution_count": null,
   "id": "68190617-068c-4039-a477-ca72dccfeb7c",
   "metadata": {},
   "outputs": [],
   "source": [
    "def func(complaints):\n",
    "    if complaints['Product'] == \"Bank account or service\":\n",
    "        return 'Account'\n",
    "    elif complaints['Product'] == \"Checking or savings account\":\n",
    "        return 'Account'\n",
    "    elif complaints['Product'] == \"Debt Collection\":\n",
    "        return 'Banking'\n",
    "    elif complaints['Product'] == \"Student loan\":\n",
    "        return 'Banking'\n",
    "    elif complaints['Product'] == \"Vehicle loan or lease\":\n",
    "        return 'Banking'\n",
    "    elif complaints['Product'] == \"Credit card\":\n",
    "        return 'Credit Card'\n",
    "    elif complaints['Product'] == \"Credit card or prepaid card\":\n",
    "        return 'Credit Card'\n",
    "    else:\n",
    "        return 'Mortgage'\n",
    "\n",
    "complaints[\"Service\"] = complaints.apply(func, axis=1)"
   ]
  },
  {
   "cell_type": "code",
   "execution_count": null,
   "id": "68173bc4-aca3-4cdc-a8c9-6c2fa04e6b8f",
   "metadata": {},
   "outputs": [],
   "source": [
    "complaints[[\"Product\", \"Service\"]].drop_duplicates(\"Product\").sort_values(by=[\"Service\", \"Product\"])"
   ]
  },
  {
   "cell_type": "code",
   "execution_count": null,
   "id": "51692ade-7396-461b-b203-d43b0bdd9f7a",
   "metadata": {},
   "outputs": [],
   "source": [
    "complaints.columns"
   ]
  },
  {
   "cell_type": "code",
   "execution_count": null,
   "id": "58b1cd6e-1b74-49d0-b7a3-072cdf75693d",
   "metadata": {},
   "outputs": [],
   "source": [
    "complaints[\"State\"].unique()"
   ]
  },
  {
   "cell_type": "code",
   "execution_count": null,
   "id": "fafa42d4-aded-4d28-be0d-07f4f4dac4de",
   "metadata": {},
   "outputs": [],
   "source": [
    "complaints[\"Sub-issue\"].unique()"
   ]
  },
  {
   "cell_type": "code",
   "execution_count": null,
   "id": "9961db49-3152-4d2d-a5a2-e04d518a4009",
   "metadata": {},
   "outputs": [],
   "source": [
    "complaints[\"Sub-product\"].unique()"
   ]
  },
  {
   "cell_type": "code",
   "execution_count": null,
   "id": "22f5f1e9-9878-462f-8cd3-9ad4e64fe0c6",
   "metadata": {},
   "outputs": [],
   "source": [
    "complaints[\"Submitted via\"].unique()"
   ]
  },
  {
   "cell_type": "code",
   "execution_count": null,
   "id": "8b1b1638-8845-4445-9cdf-a6b82886de81",
   "metadata": {},
   "outputs": [],
   "source": [
    "complaints[\"Tags\"].unique()"
   ]
  },
  {
   "cell_type": "code",
   "execution_count": null,
   "id": "6d728d70-9dbe-4a8d-88de-64e41d8d17f3",
   "metadata": {},
   "outputs": [],
   "source": [
    "complaints[\"Timely response?\"].unique()"
   ]
  },
  {
   "cell_type": "code",
   "execution_count": null,
   "id": "a4ac9719-e73e-41e1-8764-7223306c9c33",
   "metadata": {},
   "outputs": [],
   "source": [
    "complaints[\"ZIP code\"].unique()"
   ]
  },
  {
   "cell_type": "code",
   "execution_count": null,
   "id": "7f6f4102-d6e4-47ec-b2f8-7c8676571e86",
   "metadata": {},
   "outputs": [],
   "source": [
    "complaints[\"Number of Complaints\"].unique()"
   ]
  },
  {
   "cell_type": "code",
   "execution_count": null,
   "id": "dc42bbc2-9462-486a-b501-0bd3280932be",
   "metadata": {},
   "outputs": [],
   "source": [
    "complaints[\"Target\"].unique()"
   ]
  },
  {
   "cell_type": "code",
   "execution_count": null,
   "id": "9feec1f5-0518-48fd-98aa-57252d7ef831",
   "metadata": {},
   "outputs": [],
   "source": [
    "complaints = complaints.drop(columns = [\"All Complaints (Selected)\", \"Number of Complaints\", \"Target\"])"
   ]
  },
  {
   "cell_type": "code",
   "execution_count": null,
   "id": "a7c4ad2f-2aa0-475e-b5cd-e218bdfbeb75",
   "metadata": {},
   "outputs": [],
   "source": [
    "complaints[\"Time to Receipt\"].sort_values().unique()"
   ]
  },
  {
   "cell_type": "code",
   "execution_count": null,
   "id": "9b806c7e-dafb-4709-ae83-fbc4e04d9708",
   "metadata": {},
   "outputs": [],
   "source": [
    "complaints[\"Date Diff\"] = (complaints[\"Date Received\"] - complaints[\"Date Submitted\"])\n",
    "complaints[[\"Time to Receipt\", \"Date Diff\"]].sort_values(by=\"Time to Receipt\").drop_duplicates()"
   ]
  },
  {
   "cell_type": "code",
   "execution_count": null,
   "id": "ebf94558-5404-43a6-97f6-a6e873acdd70",
   "metadata": {},
   "outputs": [],
   "source": [
    "complaints[\"Time to Receipt\"][complaints[\"Time to Receipt\"] == -1].count()"
   ]
  },
  {
   "cell_type": "markdown",
   "id": "be9ad258-7b9b-47a8-b44c-f2c027841e2c",
   "metadata": {},
   "source": [
    "### 3. Imputing blank or null values."
   ]
  },
  {
   "cell_type": "code",
   "execution_count": null,
   "id": "d2542a7f-2d57-43da-b737-59b88cf83173",
   "metadata": {},
   "outputs": [],
   "source": [
    "complaints.isna().sum()"
   ]
  },
  {
   "cell_type": "code",
   "execution_count": null,
   "id": "40062697-a50a-4b20-aa91-f4ecef81d189",
   "metadata": {},
   "outputs": [],
   "source": []
  },
  {
   "cell_type": "markdown",
   "id": "0c384361-c988-425c-a44a-d10435172775",
   "metadata": {},
   "source": [
    "### 4. Removing columns that are redundant or not relevant to the analysis."
   ]
  },
  {
   "cell_type": "code",
   "execution_count": null,
   "id": "7af08035-1ac0-45f3-b4ff-5096031fde4a",
   "metadata": {},
   "outputs": [],
   "source": [
    "complaints.drop([\"Company public response\", \"All Complaints (Selected)\", \"Number of Complaints\", \"Target\"], axis = 1)"
   ]
  },
  {
   "cell_type": "markdown",
   "id": "ccd049f4-8f50-4cff-b9e4-4e89ead84dac",
   "metadata": {},
   "source": [
    "## Customer Complaints Data Analysis."
   ]
  },
  {
   "cell_type": "markdown",
   "id": "0f78d2b8-ef9b-44dc-8526-6e0d4e8e9ca9",
   "metadata": {},
   "source": [
    "#### 1. Total Complaints"
   ]
  },
  {
   "cell_type": "code",
   "execution_count": null,
   "id": "13834835-e7fc-4b15-bfc7-172fccf04e4d",
   "metadata": {},
   "outputs": [],
   "source": [
    "complaints[\"Complaint ID\"].count()"
   ]
  },
  {
   "cell_type": "markdown",
   "id": "071a3dba-4637-49a9-b8c8-9c967cba9093",
   "metadata": {},
   "source": [
    "#### 2. Total Complaints by Service"
   ]
  },
  {
   "cell_type": "code",
   "execution_count": null,
   "id": "84248cac-2dcf-4d1a-932e-91833b37e549",
   "metadata": {},
   "outputs": [],
   "source": [
    "complaints.groupby(\"Service\")[\"Complaint ID\"].count()"
   ]
  },
  {
   "cell_type": "markdown",
   "id": "0d463bf3-d09d-41d7-841a-cab2f0655fa8",
   "metadata": {},
   "source": [
    "#### 3. Total Complaints by Year"
   ]
  },
  {
   "cell_type": "code",
   "execution_count": null,
   "id": "b83a5ac8-1f75-4332-9759-59610e09dca9",
   "metadata": {},
   "outputs": [],
   "source": [
    "complaints[\"Year Received\"] = complaints[\"Date Received\"].dt.year\n",
    "complaints.groupby(\"Year Received\")[\"Complaint ID\"].count()"
   ]
  },
  {
   "cell_type": "markdown",
   "id": "a7b486d9-a0f5-4786-8b94-45156533fe6a",
   "metadata": {},
   "source": [
    "#### 4. Total Complaints by Year and Service"
   ]
  },
  {
   "cell_type": "code",
   "execution_count": null,
   "id": "7c53b7b9-d046-4736-be2e-2de6ae3e4bfb",
   "metadata": {},
   "outputs": [],
   "source": [
    "complaints.groupby([\"Service\", \"Year Received\"])[\"Complaint ID\"].count()"
   ]
  },
  {
   "cell_type": "markdown",
   "id": "85e75ace-b793-4baf-8443-de4da818ae28",
   "metadata": {},
   "source": [
    "#### 5. Total Complaints by Progress"
   ]
  },
  {
   "cell_type": "code",
   "execution_count": null,
   "id": "3129a636-2c80-4e0e-8223-7ad4f390d8b0",
   "metadata": {},
   "outputs": [],
   "source": [
    "complaints.groupby(\"Progress\")[\"Complaint ID\"].count()"
   ]
  },
  {
   "cell_type": "code",
   "execution_count": null,
   "id": "2a4f58ab-5dd4-454a-bc3e-3d7f0224119d",
   "metadata": {},
   "outputs": [],
   "source": [
    "complaints.groupby([\"Progress\", \"Service\"])[\"Complaint ID\"].count()"
   ]
  },
  {
   "cell_type": "code",
   "execution_count": null,
   "id": "1cf75e1a-62c6-4ee2-89e8-e166ae6e7702",
   "metadata": {},
   "outputs": [],
   "source": [
    "complaints[\"Progress\"].value_counts(normalize=True)"
   ]
  },
  {
   "cell_type": "code",
   "execution_count": null,
   "id": "2e09bad7-76cd-4142-9815-8c7c8425c547",
   "metadata": {},
   "outputs": [],
   "source": [
    "complaints[[\"Progress\", \"Service\"]].value_counts(normalize=True)"
   ]
  },
  {
   "cell_type": "code",
   "execution_count": null,
   "id": "7b8cf622-fcfc-4a9d-82d4-2bf90d2c6391",
   "metadata": {},
   "outputs": [],
   "source": []
  }
 ],
 "metadata": {
  "kernelspec": {
   "display_name": "Python 3 (ipykernel)",
   "language": "python",
   "name": "python3"
  },
  "language_info": {
   "codemirror_mode": {
    "name": "ipython",
    "version": 3
   },
   "file_extension": ".py",
   "mimetype": "text/x-python",
   "name": "python",
   "nbconvert_exporter": "python",
   "pygments_lexer": "ipython3",
   "version": "3.12.4"
  }
 },
 "nbformat": 4,
 "nbformat_minor": 5
}
