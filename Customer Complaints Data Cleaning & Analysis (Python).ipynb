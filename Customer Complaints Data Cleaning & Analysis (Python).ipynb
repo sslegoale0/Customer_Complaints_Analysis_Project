{
 "cells": [
  {
   "cell_type": "markdown",
   "id": "e026d648-0b16-46d6-866f-824a7f39dd62",
   "metadata": {},
   "source": [
    "## Customer Complaints Data Cleaning."
   ]
  },
  {
   "cell_type": "markdown",
   "id": "753967b3-dbf6-4fb4-960e-65b8a8d1e09e",
   "metadata": {},
   "source": [
    "#### Importing python libraries for data analysis."
   ]
  },
  {
   "cell_type": "code",
   "execution_count": null,
   "id": "34d7dc56-dd68-4816-adc3-36670c8b6861",
   "metadata": {},
   "outputs": [],
   "source": [
    "import numpy as np\n",
    "import pandas as pd\n",
    "import matplotlib.pyplot as plt\n",
    "import seaborn as sns"
   ]
  },
  {
   "cell_type": "markdown",
   "id": "a8942143-d577-47d5-8075-1b035875a485",
   "metadata": {},
   "source": [
    "#### Reading in customer complaints excel data into python."
   ]
  },
  {
   "cell_type": "code",
   "execution_count": null,
   "id": "9f2e842d-6cc5-4412-b662-02726e21f0dd",
   "metadata": {},
   "outputs": [],
   "source": [
    "complaints = pd.read_excel(\"Customer Complaints Data.xlsx\")"
   ]
  },
  {
   "cell_type": "markdown",
   "id": "00dfff73-a62a-4aa0-9047-db3ead65cde8",
   "metadata": {},
   "source": [
    "#### First five rows of the dataframe"
   ]
  },
  {
   "cell_type": "code",
   "execution_count": null,
   "id": "9a2c10b3-adcf-4e16-81c1-34d4fc690055",
   "metadata": {},
   "outputs": [],
   "source": [
    "complaints.head()"
   ]
  },
  {
   "cell_type": "markdown",
   "id": "c079cb11-5172-47ea-92a2-fc7a9161ff47",
   "metadata": {},
   "source": [
    "#### Number of non-null values and data types for each column."
   ]
  },
  {
   "cell_type": "code",
   "execution_count": null,
   "id": "4b34b33a-8b95-4676-9aa8-63e0f3c77b2e",
   "metadata": {},
   "outputs": [],
   "source": [
    "complaints.info()"
   ]
  },
  {
   "cell_type": "markdown",
   "id": "26543690-17e7-46d9-ae62-00639b335bdb",
   "metadata": {},
   "source": [
    "### 1. Removing duplicated rows."
   ]
  },
  {
   "cell_type": "code",
   "execution_count": null,
   "id": "dd61b359-7367-4fc4-a4c2-587e597a8d39",
   "metadata": {},
   "outputs": [],
   "source": [
    "complaints[\"Complaint ID\"].nunique()"
   ]
  },
  {
   "cell_type": "markdown",
   "id": "3d53af57-a88b-49e6-bd12-896f6839c634",
   "metadata": {},
   "source": [
    "### 2. Formatting the data"
   ]
  },
  {
   "cell_type": "code",
   "execution_count": null,
   "id": "7ddaa09c-7ee8-4320-8d3f-6ac58d1040e2",
   "metadata": {},
   "outputs": [],
   "source": [
    "complaints.columns"
   ]
  },
  {
   "cell_type": "code",
   "execution_count": null,
   "id": "4eacb9cb-60ed-4ecc-a428-fb3d8f312154",
   "metadata": {},
   "outputs": [],
   "source": [
    "complaints[\"Company\"].unique()"
   ]
  },
  {
   "cell_type": "code",
   "execution_count": null,
   "id": "460bbe6a-733c-40c3-bc45-d39e14bb9e99",
   "metadata": {},
   "outputs": [],
   "source": [
    "complaints[\"Company\"].nunique()"
   ]
  },
  {
   "cell_type": "code",
   "execution_count": null,
   "id": "f8060d60-74e9-4f46-a469-cccc32b025be",
   "metadata": {},
   "outputs": [],
   "source": [
    "complaints[\"Company public response\"].unique()"
   ]
  },
  {
   "cell_type": "code",
   "execution_count": null,
   "id": "fc5676ce-e65c-42bb-bf94-00875f2bf465",
   "metadata": {},
   "outputs": [],
   "source": [
    "complaints[\"Company response to consumer\"].unique()"
   ]
  },
  {
   "cell_type": "markdown",
   "id": "0d992068-f5aa-4252-b861-494dfeceba13",
   "metadata": {},
   "source": [
    "#### Grouping all closed complaints to \"Closed\" and in progress to \"Pending\"."
   ]
  },
  {
   "cell_type": "code",
   "execution_count": null,
   "id": "da4166d8-2af7-4cc5-9487-4b6c3f721083",
   "metadata": {},
   "outputs": [],
   "source": [
    "complaints[\"Progress\"] = np.where(complaints[\"Company response to consumer\"].str.contains(\"Closed\"), \"Closed\", np.where(complaints[\"Company response to consumer\"] == \"Untimely response\", \"Closed\", \"Pending\"))"
   ]
  },
  {
   "cell_type": "code",
   "execution_count": null,
   "id": "86db31c5-0a63-4644-9896-2bc3441cb69e",
   "metadata": {},
   "outputs": [],
   "source": [
    "complaints[[\"Company response to consumer\", \"Progress\"]].drop_duplicates(\"Company response to consumer\")"
   ]
  },
  {
   "cell_type": "code",
   "execution_count": null,
   "id": "99167a5d-d6df-4992-9b09-d026a190c703",
   "metadata": {},
   "outputs": [],
   "source": [
    "complaints[\"Consumer consent provided?\"].unique()"
   ]
  },
  {
   "cell_type": "code",
   "execution_count": null,
   "id": "020aa8ae-3227-48ae-a75f-a1563ad3542c",
   "metadata": {},
   "outputs": [],
   "source": [
    "complaints[\"Consumer disputed?\"].unique()"
   ]
  },
  {
   "cell_type": "code",
   "execution_count": null,
   "id": "e58dcd28-0ba5-4ade-9376-694e9cbeb5d2",
   "metadata": {},
   "outputs": [],
   "source": [
    "complaints[\"Date Received\"].unique()"
   ]
  },
  {
   "cell_type": "code",
   "execution_count": null,
   "id": "88db5f10-f84d-4a33-baf8-ea6a6589db87",
   "metadata": {},
   "outputs": [],
   "source": [
    "complaints[\"Date Submitted\"].unique()"
   ]
  },
  {
   "cell_type": "code",
   "execution_count": null,
   "id": "5a36dda6-1658-49c0-9f34-d9c48773762e",
   "metadata": {},
   "outputs": [],
   "source": [
    "complaints[\"Issue\"].unique()"
   ]
  },
  {
   "cell_type": "code",
   "execution_count": null,
   "id": "40117cef-adc6-4f8d-9b43-b6d0028154a9",
   "metadata": {},
   "outputs": [],
   "source": [
    "complaints[\"Product\"].sort_values().unique()"
   ]
  },
  {
   "cell_type": "markdown",
   "id": "dd3f2a98-85cd-4bb4-92bd-aec9a31dc6ca",
   "metadata": {},
   "source": [
    "#### Creating a function to group various Product complaints into a Service columns."
   ]
  },
  {
   "cell_type": "code",
   "execution_count": null,
   "id": "68190617-068c-4039-a477-ca72dccfeb7c",
   "metadata": {},
   "outputs": [],
   "source": [
    "def func(complaints):\n",
    "    if complaints['Product'] == \"Bank account or service\":\n",
    "        return 'Account'\n",
    "    elif complaints['Product'] == \"Checking or savings account\":\n",
    "        return 'Account'\n",
    "    elif complaints['Product'] == \"Debt Collection\":\n",
    "        return 'Banking'\n",
    "    elif complaints['Product'] == \"Student loan\":\n",
    "        return 'Banking'\n",
    "    elif complaints['Product'] == \"Vehicle loan or lease\":\n",
    "        return 'Banking'\n",
    "    elif complaints['Product'] == \"Credit card\":\n",
    "        return 'Credit Card'\n",
    "    elif complaints['Product'] == \"Credit card or prepaid card\":\n",
    "        return 'Credit Card'\n",
    "    else:\n",
    "        return 'Mortgage'\n",
    "\n",
    "complaints[\"Service\"] = complaints.apply(func, axis=1)"
   ]
  },
  {
   "cell_type": "code",
   "execution_count": null,
   "id": "68173bc4-aca3-4cdc-a8c9-6c2fa04e6b8f",
   "metadata": {},
   "outputs": [],
   "source": [
    "complaints[[\"Product\", \"Service\"]].drop_duplicates(\"Product\").sort_values(by=[\"Service\", \"Product\"])"
   ]
  },
  {
   "cell_type": "code",
   "execution_count": null,
   "id": "51692ade-7396-461b-b203-d43b0bdd9f7a",
   "metadata": {},
   "outputs": [],
   "source": [
    "complaints.columns"
   ]
  },
  {
   "cell_type": "code",
   "execution_count": null,
   "id": "58b1cd6e-1b74-49d0-b7a3-072cdf75693d",
   "metadata": {},
   "outputs": [],
   "source": [
    "complaints[\"State\"].unique()"
   ]
  },
  {
   "cell_type": "code",
   "execution_count": null,
   "id": "fafa42d4-aded-4d28-be0d-07f4f4dac4de",
   "metadata": {},
   "outputs": [],
   "source": [
    "complaints[\"Sub-issue\"].unique()"
   ]
  },
  {
   "cell_type": "code",
   "execution_count": null,
   "id": "9961db49-3152-4d2d-a5a2-e04d518a4009",
   "metadata": {},
   "outputs": [],
   "source": [
    "complaints[\"Sub-product\"].unique()"
   ]
  },
  {
   "cell_type": "code",
   "execution_count": null,
   "id": "22f5f1e9-9878-462f-8cd3-9ad4e64fe0c6",
   "metadata": {},
   "outputs": [],
   "source": [
    "complaints[\"Submitted via\"].unique()"
   ]
  },
  {
   "cell_type": "code",
   "execution_count": null,
   "id": "8b1b1638-8845-4445-9cdf-a6b82886de81",
   "metadata": {},
   "outputs": [],
   "source": [
    "complaints[\"Tags\"].unique()"
   ]
  },
  {
   "cell_type": "code",
   "execution_count": null,
   "id": "6d728d70-9dbe-4a8d-88de-64e41d8d17f3",
   "metadata": {},
   "outputs": [],
   "source": [
    "complaints[\"Timely response?\"].unique()"
   ]
  },
  {
   "cell_type": "code",
   "execution_count": null,
   "id": "a4ac9719-e73e-41e1-8764-7223306c9c33",
   "metadata": {},
   "outputs": [],
   "source": [
    "complaints[\"ZIP code\"].unique()"
   ]
  },
  {
   "cell_type": "code",
   "execution_count": null,
   "id": "7f6f4102-d6e4-47ec-b2f8-7c8676571e86",
   "metadata": {},
   "outputs": [],
   "source": [
    "complaints[\"Number of Complaints\"].unique()"
   ]
  },
  {
   "cell_type": "code",
   "execution_count": null,
   "id": "dc42bbc2-9462-486a-b501-0bd3280932be",
   "metadata": {},
   "outputs": [],
   "source": [
    "complaints[\"Target\"].unique()"
   ]
  },
  {
   "cell_type": "code",
   "execution_count": null,
   "id": "a7c4ad2f-2aa0-475e-b5cd-e218bdfbeb75",
   "metadata": {},
   "outputs": [],
   "source": [
    "complaints[\"Time to Receipt\"].sort_values().unique()"
   ]
  },
  {
   "cell_type": "code",
   "execution_count": null,
   "id": "9b806c7e-dafb-4709-ae83-fbc4e04d9708",
   "metadata": {},
   "outputs": [],
   "source": [
    "complaints[\"Date Diff\"] = (complaints[\"Date Received\"] - complaints[\"Date Submitted\"])\n",
    "complaints[[\"Time to Receipt\", \"Date Diff\"]].sort_values(by=\"Time to Receipt\").drop_duplicates()"
   ]
  },
  {
   "cell_type": "code",
   "execution_count": null,
   "id": "ebf94558-5404-43a6-97f6-a6e873acdd70",
   "metadata": {},
   "outputs": [],
   "source": [
    "complaints[\"Time to Receipt\"][complaints[\"Time to Receipt\"] == -1].count()"
   ]
  },
  {
   "cell_type": "markdown",
   "id": "be9ad258-7b9b-47a8-b44c-f2c027841e2c",
   "metadata": {},
   "source": [
    "### 3. Imputing blank or null values."
   ]
  },
  {
   "cell_type": "code",
   "execution_count": null,
   "id": "d2542a7f-2d57-43da-b737-59b88cf83173",
   "metadata": {},
   "outputs": [],
   "source": [
    "complaints.isna().sum()"
   ]
  },
  {
   "cell_type": "code",
   "execution_count": null,
   "id": "40062697-a50a-4b20-aa91-f4ecef81d189",
   "metadata": {},
   "outputs": [],
   "source": []
  },
  {
   "cell_type": "markdown",
   "id": "0c384361-c988-425c-a44a-d10435172775",
   "metadata": {},
   "source": [
    "### 4. Removing columns that are redundant or not relevant to the analysis."
   ]
  },
  {
   "cell_type": "code",
   "execution_count": null,
   "id": "7af08035-1ac0-45f3-b4ff-5096031fde4a",
   "metadata": {},
   "outputs": [],
   "source": [
    "complaints.drop([\"Company public response\", \"All Complaints (Selected)\", \"Number of Complaints\", \"Target\"], axis = 1)"
   ]
  },
  {
   "cell_type": "markdown",
   "id": "ccd049f4-8f50-4cff-b9e4-4e89ead84dac",
   "metadata": {},
   "source": [
    "## Customer Complaints Data Analysis."
   ]
  },
  {
   "cell_type": "markdown",
   "id": "0f78d2b8-ef9b-44dc-8526-6e0d4e8e9ca9",
   "metadata": {},
   "source": [
    "#### 1. Total Complaints"
   ]
  },
  {
   "cell_type": "code",
   "execution_count": null,
   "id": "e74de2e7-78ec-452a-bea2-a3411595f89b",
   "metadata": {},
   "outputs": [],
   "source": [
    "complaints[\"Complaint ID\"].count()"
   ]
  },
  {
   "cell_type": "markdown",
   "id": "8f37660b-4b76-49d5-901b-f39e54525ca6",
   "metadata": {},
   "source": [
    "#### 2. Total Closed Complaints"
   ]
  },
  {
   "cell_type": "code",
   "execution_count": null,
   "id": "e0b6440d-b0f9-4df3-8b95-4ba4df5f06ac",
   "metadata": {},
   "outputs": [],
   "source": [
    "complaints[complaints[\"Progress\"] == \"Closed\"][\"Complaint ID\"].count()"
   ]
  },
  {
   "cell_type": "code",
   "execution_count": null,
   "id": "1baf2e6c-3031-4e72-8eb3-3d0a1072e69d",
   "metadata": {},
   "outputs": [],
   "source": [
    "(complaints[complaints[\"Progress\"] == \"Closed\"][\"Complaint ID\"].count()*100/complaints[\"Complaint ID\"].count()).round(2)"
   ]
  },
  {
   "cell_type": "markdown",
   "id": "9159c758-b4e8-4618-a6cd-3a5897b76dce",
   "metadata": {},
   "source": [
    "#### 3. Total Pending Complaints"
   ]
  },
  {
   "cell_type": "code",
   "execution_count": null,
   "id": "2c8af02f-10b2-40d2-b9f8-216a34245be1",
   "metadata": {},
   "outputs": [],
   "source": [
    "complaints[complaints[\"Progress\"] == \"Pending\"][\"Complaint ID\"].count()"
   ]
  },
  {
   "cell_type": "code",
   "execution_count": null,
   "id": "d1fc5b96-f060-4f23-9531-3b3177170a10",
   "metadata": {},
   "outputs": [],
   "source": [
    "(complaints[complaints[\"Progress\"] == \"Pending\"][\"Complaint ID\"].count()*100/complaints[\"Complaint ID\"].count()).round(2)"
   ]
  },
  {
   "cell_type": "markdown",
   "id": "e75b5044-e4c2-490e-9667-efe44408adca",
   "metadata": {},
   "source": [
    "#### 4. Total Timely Responded Complaints"
   ]
  },
  {
   "cell_type": "code",
   "execution_count": null,
   "id": "7a3cf1ea-6bc3-48d1-bf41-64484d879d07",
   "metadata": {},
   "outputs": [],
   "source": [
    "complaints[complaints[\"Timely response?\"] == \"Yes\"][\"Complaint ID\"].count()"
   ]
  },
  {
   "cell_type": "code",
   "execution_count": null,
   "id": "b1a4cd33-6e03-4488-8178-bfc3482195e6",
   "metadata": {},
   "outputs": [],
   "source": [
    "(complaints[complaints[\"Timely response?\"] == \"Yes\"][\"Complaint ID\"].count()*100/complaints[\"Complaint ID\"].count()).round(2)"
   ]
  },
  {
   "cell_type": "markdown",
   "id": "c67052e1-7417-4140-907f-dfd1cb085cfb",
   "metadata": {},
   "source": [
    "#### 5. Total Disputed Complaints"
   ]
  },
  {
   "cell_type": "code",
   "execution_count": null,
   "id": "8a72d3a2-6958-44f1-b3f6-3300333494b6",
   "metadata": {},
   "outputs": [],
   "source": [
    "complaints[complaints[\"Consumer disputed?\"] == \"Yes\"][\"Complaint ID\"].count()"
   ]
  },
  {
   "cell_type": "code",
   "execution_count": null,
   "id": "70a49d52-e564-4271-9683-aaf543b26621",
   "metadata": {},
   "outputs": [],
   "source": [
    "(complaints[complaints[\"Consumer disputed?\"] == \"Yes\"][\"Complaint ID\"].count()*100/complaints[\"Complaint ID\"].count()).round(2)"
   ]
  },
  {
   "cell_type": "markdown",
   "id": "5e70b99b-52e6-43cf-bf19-9ef9000e98f8",
   "metadata": {},
   "source": [
    "#### 6. Total Complaints by Year"
   ]
  },
  {
   "cell_type": "code",
   "execution_count": null,
   "id": "75e58e55-eb80-4960-8e3b-ffd920f80c76",
   "metadata": {},
   "outputs": [],
   "source": [
    "complaints[\"Year\"] = complaints[\"Date Received\"].dt.year"
   ]
  },
  {
   "cell_type": "code",
   "execution_count": null,
   "id": "1535417c-a1fa-4dc2-9ae2-1c681cce3a49",
   "metadata": {},
   "outputs": [],
   "source": [
    "complaints.groupby(\"Year\")[\"Complaint ID\"].count()"
   ]
  },
  {
   "cell_type": "markdown",
   "id": "1055b2b1-9bcc-4511-88f4-1d4ff2879a23",
   "metadata": {},
   "source": [
    "#### 7. Total Complaints by State"
   ]
  },
  {
   "cell_type": "code",
   "execution_count": null,
   "id": "74b6b204-0928-401e-b5f6-35627f1f230b",
   "metadata": {},
   "outputs": [],
   "source": [
    "complaints.groupby(\"State\")[\"Complaint ID\"].count()"
   ]
  },
  {
   "cell_type": "markdown",
   "id": "8a4d8058-b715-44a7-b406-1ffa96f6d4d9",
   "metadata": {},
   "source": [
    "#### 8. Total Complaints by Issue"
   ]
  },
  {
   "cell_type": "code",
   "execution_count": null,
   "id": "d674b2be-9311-43c5-b22f-50b6e51d32e7",
   "metadata": {},
   "outputs": [],
   "source": [
    "complaints.groupby(\"Issue\")[\"Complaint ID\"].count()"
   ]
  },
  {
   "cell_type": "markdown",
   "id": "d869d86c-b04a-4efc-bedc-aaa1ba11bba5",
   "metadata": {},
   "source": [
    "#### 9. Total Complaints by Consumer Consent Provided?"
   ]
  },
  {
   "cell_type": "code",
   "execution_count": null,
   "id": "691ab337-32a5-4445-9683-cf354d3c0cbd",
   "metadata": {},
   "outputs": [],
   "source": [
    "complaints.groupby(\"Consumer consent provided?\")[\"Complaint ID\"].count()"
   ]
  },
  {
   "cell_type": "markdown",
   "id": "688ed0e8-847b-4dd2-ab27-319d3b3a3eaf",
   "metadata": {},
   "source": [
    "#### 10. Total Complaints by Submitted via"
   ]
  },
  {
   "cell_type": "code",
   "execution_count": null,
   "id": "1e9a3daa-e31e-4a58-842c-ee2c78ee1dc8",
   "metadata": {},
   "outputs": [],
   "source": [
    "complaints.groupby(\"Submitted via\")[\"Complaint ID\"].count()"
   ]
  },
  {
   "cell_type": "code",
   "execution_count": null,
   "id": "dc7c543b-85f4-46bc-8b75-a432bda752e0",
   "metadata": {},
   "outputs": [],
   "source": [
    "(complaints.groupby(\"Submitted via\")[\"Complaint ID\"].count()*100/complaints[\"Complaint ID\"].count()).round(2)"
   ]
  },
  {
   "cell_type": "markdown",
   "id": "6f13797d-1080-4d95-a2de-47f676da6042",
   "metadata": {},
   "source": [
    "#### 11. Total Complaints by Consumer Disputed?"
   ]
  },
  {
   "cell_type": "code",
   "execution_count": null,
   "id": "d56c49df-0be3-445d-8501-816821c983b4",
   "metadata": {},
   "outputs": [],
   "source": [
    "complaints.groupby(\"Consumer disputed?\")[\"Complaint ID\"].count()"
   ]
  },
  {
   "cell_type": "code",
   "execution_count": null,
   "id": "7118e82f-e704-4c9f-8f86-ca424d78084e",
   "metadata": {},
   "outputs": [],
   "source": [
    "(complaints.groupby(\"Consumer disputed?\")[\"Complaint ID\"].count()*100/complaints[\"Complaint ID\"].count()).round(2)"
   ]
  },
  {
   "cell_type": "markdown",
   "id": "18266bec-7747-48c8-be46-809da0c11b53",
   "metadata": {},
   "source": [
    "#### 12. Total Complaints by Tags"
   ]
  },
  {
   "cell_type": "code",
   "execution_count": null,
   "id": "627676ff-450d-4692-b157-fba38b72affd",
   "metadata": {},
   "outputs": [],
   "source": [
    "complaints.groupby(\"Tags\")[\"Complaint ID\"].count()"
   ]
  },
  {
   "cell_type": "code",
   "execution_count": null,
   "id": "b306eaeb-48e8-4c96-a5d1-77051dca7a9a",
   "metadata": {},
   "outputs": [],
   "source": [
    "(complaints.groupby(\"Tags\")[\"Complaint ID\"].count()*100/complaints[\"Complaint ID\"].count()).round(2)"
   ]
  },
  {
   "cell_type": "markdown",
   "id": "ec806036-5648-4103-b7d9-30a821c2c72a",
   "metadata": {},
   "source": [
    "#### 13. Total Account Complaints"
   ]
  },
  {
   "cell_type": "code",
   "execution_count": null,
   "id": "ebd86f48-bbed-441f-bb06-4e99cef595bc",
   "metadata": {},
   "outputs": [],
   "source": [
    "complaints[complaints[\"Service\"] == \"Account\"][\"Complaint ID\"].count()"
   ]
  },
  {
   "cell_type": "markdown",
   "id": "25ebb877-ef28-4b45-b64e-d96dcddc4c67",
   "metadata": {},
   "source": [
    "#### 14. Closed Account Complaints"
   ]
  },
  {
   "cell_type": "code",
   "execution_count": null,
   "id": "ddd99b8f-77a1-447d-949b-9792b242e148",
   "metadata": {},
   "outputs": [],
   "source": [
    "complaints[(complaints[\"Service\"] == \"Account\") & (complaints[\"Progress\"] == \"Closed\")][\"Complaint ID\"].count()"
   ]
  },
  {
   "cell_type": "code",
   "execution_count": null,
   "id": "04f314ef-ee46-45a9-9cb4-c13a919e58f5",
   "metadata": {},
   "outputs": [],
   "source": [
    "(complaints[(complaints[\"Service\"] == \"Account\") & (complaints[\"Progress\"] == \"Closed\")][\"Complaint ID\"].count()*100/complaints[complaints[\"Service\"] == \"Account\"][\"Complaint ID\"].count()).round(2)"
   ]
  },
  {
   "cell_type": "markdown",
   "id": "dccb0cc2-1730-4851-8371-d8d0b90687ec",
   "metadata": {},
   "source": [
    "#### 15. Pending Account Complaints"
   ]
  },
  {
   "cell_type": "code",
   "execution_count": null,
   "id": "f2e9c943-27b2-4de5-aed5-e505dd4b8d2f",
   "metadata": {},
   "outputs": [],
   "source": [
    "complaints[(complaints[\"Service\"] == \"Account\") & (complaints[\"Progress\"] == \"Pending\")][\"Complaint ID\"].count()"
   ]
  },
  {
   "cell_type": "code",
   "execution_count": null,
   "id": "ff9877e9-a043-4640-b856-b09bbf80fb31",
   "metadata": {},
   "outputs": [],
   "source": [
    "complaints[(complaints[\"Service\"] == \"Account\") & (complaints[\"Progress\"] == \"Pending\")][\"Complaint ID\"].count()*100/complaints[complaints[\"Service\"] == \"Account\"][\"Complaint ID\"].count()"
   ]
  },
  {
   "cell_type": "markdown",
   "id": "cc73c2a5-f64f-4dfc-8f4a-b9f561266ef0",
   "metadata": {},
   "source": [
    "#### 16. Timely Response Account Complaints"
   ]
  },
  {
   "cell_type": "code",
   "execution_count": null,
   "id": "538c7818-6917-49ad-9209-a93f2476bf94",
   "metadata": {},
   "outputs": [],
   "source": [
    "complaints[(complaints[\"Service\"] == \"Account\") & (complaints[\"Timely response?\"] == \"Yes\")][\"Complaint ID\"].count()"
   ]
  },
  {
   "cell_type": "code",
   "execution_count": null,
   "id": "a88571fb-0f8e-49df-8fd7-8b78067bb21c",
   "metadata": {},
   "outputs": [],
   "source": [
    "complaints[(complaints[\"Service\"] == \"Account\") & (complaints[\"Timely response?\"] == \"Yes\")][\"Complaint ID\"].count()*100/complaints[(complaints[\"Service\"] == \"Account\") & (complaints[\"Progress\"] == \"Closed\")][\"Complaint ID\"].count()"
   ]
  },
  {
   "cell_type": "markdown",
   "id": "1831e237-dd23-42be-95eb-01e6da3c10fb",
   "metadata": {},
   "source": [
    "#### 17. Disputed Account Complaints"
   ]
  },
  {
   "cell_type": "code",
   "execution_count": null,
   "id": "0763034c-9bd0-4e7a-86cc-fe7655dfe0cf",
   "metadata": {},
   "outputs": [],
   "source": [
    "complaints[(complaints[\"Service\"] == \"Account\") & (complaints[\"Consumer disputed?\"] == \"Yes\")][\"Complaint ID\"].count()"
   ]
  },
  {
   "cell_type": "code",
   "execution_count": null,
   "id": "42d05869-03b9-451d-9555-ee5932475462",
   "metadata": {},
   "outputs": [],
   "source": [
    "complaints[(complaints[\"Service\"] == \"Account\") & (complaints[\"Consumer disputed?\"] == \"Yes\")][\"Complaint ID\"].count()*100/complaints[(complaints[\"Service\"] == \"Account\") & (complaints[\"Progress\"] == \"Closed\")][\"Complaint ID\"].count()"
   ]
  },
  {
   "cell_type": "markdown",
   "id": "e6993a6c-72be-41e4-8bf3-2fc21bef3b47",
   "metadata": {},
   "source": [
    "#### 18. Account Complaints by Year"
   ]
  },
  {
   "cell_type": "code",
   "execution_count": null,
   "id": "93e9e88a-f73b-488f-b391-e635c754f435",
   "metadata": {},
   "outputs": [],
   "source": [
    "complaints[complaints[\"Service\"] == \"Account\"].groupby(\"Year\")[\"Complaint ID\"].count()"
   ]
  },
  {
   "cell_type": "markdown",
   "id": "5380cae0-7ae2-422c-a87f-f92d28456480",
   "metadata": {},
   "source": [
    "#### 19. Account Complaints by State"
   ]
  },
  {
   "cell_type": "code",
   "execution_count": null,
   "id": "f67f9834-ab64-4fbe-a0f5-e72e810bf3f8",
   "metadata": {},
   "outputs": [],
   "source": [
    "complaints[complaints[\"Service\"] == \"Account\"].groupby(\"State\")[\"Complaint ID\"].count()"
   ]
  },
  {
   "cell_type": "markdown",
   "id": "3c40ce24-f86b-4ac5-a967-cc9b98611587",
   "metadata": {},
   "source": [
    "#### 20. Account Complaints by Issue"
   ]
  },
  {
   "cell_type": "code",
   "execution_count": null,
   "id": "a2e0230c-6fb7-4b65-b0af-914c23bcde96",
   "metadata": {},
   "outputs": [],
   "source": [
    "complaints[complaints[\"Service\"] == \"Account\"].groupby(\"Issue\")[\"Complaint ID\"].count()"
   ]
  },
  {
   "cell_type": "markdown",
   "id": "80554cd3-6118-4de8-8b43-3de72bbcdd5c",
   "metadata": {},
   "source": [
    "#### 21. Account Complaints by Consumer Consent Provided?"
   ]
  },
  {
   "cell_type": "code",
   "execution_count": null,
   "id": "4409e879-0d6b-4673-9d49-1af554284f99",
   "metadata": {},
   "outputs": [],
   "source": [
    "complaints[complaints[\"Service\"] == \"Account\"].groupby(\"Consumer consent provided?\")[\"Complaint ID\"].count()"
   ]
  },
  {
   "cell_type": "markdown",
   "id": "21bb4d74-d45e-481e-b216-94796f5cfc84",
   "metadata": {},
   "source": [
    "#### 22. Account Complaints by Submitted Via"
   ]
  },
  {
   "cell_type": "code",
   "execution_count": null,
   "id": "b0702ed4-0d8d-40f6-a648-9664ffb3849c",
   "metadata": {},
   "outputs": [],
   "source": [
    "complaints[complaints[\"Service\"] == \"Account\"].groupby(\"Submitted via\")[\"Complaint ID\"].count()"
   ]
  },
  {
   "cell_type": "code",
   "execution_count": null,
   "id": "853cfd60-5210-4508-8587-c919009412a2",
   "metadata": {},
   "outputs": [],
   "source": [
    "(complaints[complaints[\"Service\"] == \"Account\"].groupby(\"Submitted via\")[\"Complaint ID\"].count()*100/complaints[complaints[\"Service\"] == \"Account\"][\"Complaint ID\"].count()).round(2)"
   ]
  },
  {
   "cell_type": "markdown",
   "id": "0f5a4ad0-5fed-4eca-a807-b5da93b9f696",
   "metadata": {},
   "source": [
    "#### 23. Account Complaints by Consumer Disputed?"
   ]
  },
  {
   "cell_type": "code",
   "execution_count": null,
   "id": "c7f58310-5e41-45a1-8294-d676e1cbb89e",
   "metadata": {},
   "outputs": [],
   "source": [
    "complaints[complaints[\"Service\"] == \"Account\"].groupby(\"Consumer disputed?\")[\"Complaint ID\"].count()"
   ]
  },
  {
   "cell_type": "code",
   "execution_count": null,
   "id": "9dee7a79-0c8d-4676-b0f4-e5f3c3a388a9",
   "metadata": {},
   "outputs": [],
   "source": [
    "(complaints[complaints[\"Service\"] == \"Account\"].groupby(\"Consumer disputed?\")[\"Complaint ID\"].count()*100/complaints[complaints[\"Service\"] == \"Account\"][\"Complaint ID\"].count()).round(2)"
   ]
  },
  {
   "cell_type": "markdown",
   "id": "7e669329-0780-4a24-ac83-9ae6e2864aa5",
   "metadata": {},
   "source": [
    "#### 24. Account Complaints by Tags"
   ]
  },
  {
   "cell_type": "code",
   "execution_count": null,
   "id": "f6d8e42e-10b6-4b95-8fc5-e1faa6427f0f",
   "metadata": {},
   "outputs": [],
   "source": [
    "complaints[complaints[\"Service\"] == \"Account\"].groupby(\"Tags\")[\"Complaint ID\"].count()"
   ]
  },
  {
   "cell_type": "code",
   "execution_count": null,
   "id": "bf66976a-91da-4cd8-80f2-99dbca06f8bf",
   "metadata": {},
   "outputs": [],
   "source": [
    "(complaints[complaints[\"Service\"] == \"Account\"].groupby(\"Tags\")[\"Complaint ID\"].count()*100/complaints[complaints[\"Service\"] == \"Account\"][\"Complaint ID\"].count()).round(2)"
   ]
  },
  {
   "cell_type": "markdown",
   "id": "a026d8df-a426-4146-8079-ee6fbe68b01e",
   "metadata": {},
   "source": [
    "#### 25. Total Banking Complaints"
   ]
  },
  {
   "cell_type": "code",
   "execution_count": null,
   "id": "5fb7f3f7-dd9d-480a-87bb-29cce91eca0a",
   "metadata": {},
   "outputs": [],
   "source": [
    "complaints[complaints[\"Service\"] == \"Banking\"][\"Complaint ID\"].count()"
   ]
  },
  {
   "cell_type": "markdown",
   "id": "0720f8dd-cd46-4d77-8cc4-b5f5ec4e38ac",
   "metadata": {},
   "source": [
    "#### 26. Closed Banking Complaints"
   ]
  },
  {
   "cell_type": "code",
   "execution_count": null,
   "id": "a02db4ce-292c-40d8-b771-8447279f9392",
   "metadata": {},
   "outputs": [],
   "source": [
    "complaints[(complaints[\"Service\"] == \"Banking\") & (complaints[\"Progress\"] == \"Closed\")][\"Complaint ID\"].count()"
   ]
  },
  {
   "cell_type": "code",
   "execution_count": null,
   "id": "70f3a113-d371-4129-a627-4ce759c12df2",
   "metadata": {},
   "outputs": [],
   "source": [
    "(complaints[(complaints[\"Service\"] == \"Banking\") & (complaints[\"Progress\"] == \"Closed\")][\"Complaint ID\"].count()*100/complaints[complaints[\"Service\"] == \"Banking\"][\"Complaint ID\"].count()).round(2)"
   ]
  },
  {
   "cell_type": "markdown",
   "id": "0895e48f-8303-4193-b44d-4629285e2052",
   "metadata": {},
   "source": [
    "#### 27. Pending Banking Complaints"
   ]
  },
  {
   "cell_type": "code",
   "execution_count": null,
   "id": "a31108d2-6da8-4da5-bbd0-689cbc3fa84c",
   "metadata": {},
   "outputs": [],
   "source": [
    "complaints[(complaints[\"Service\"] == \"Banking\") & (complaints[\"Progress\"] == \"Pending\")][\"Complaint ID\"].count()"
   ]
  },
  {
   "cell_type": "code",
   "execution_count": null,
   "id": "6bab172d-29d3-436e-8ec2-5814a44dff5b",
   "metadata": {},
   "outputs": [],
   "source": [
    "(complaints[(complaints[\"Service\"] == \"Banking\") & (complaints[\"Progress\"] == \"Pending\")][\"Complaint ID\"].count()*100/complaints[complaints[\"Service\"] == \"Banking\"][\"Complaint ID\"].count()).round(2)"
   ]
  },
  {
   "cell_type": "markdown",
   "id": "253de25f-ef76-4ebe-a597-bb8fa566326d",
   "metadata": {},
   "source": [
    "#### 28. Timely Responded Banking Complaints"
   ]
  },
  {
   "cell_type": "code",
   "execution_count": null,
   "id": "bb734952-ca79-452e-a25e-dfbf3b5dcde1",
   "metadata": {},
   "outputs": [],
   "source": [
    "complaints[(complaints[\"Service\"] == \"Banking\") & (complaints[\"Timely response?\"] == \"Yes\")][\"Complaint ID\"].count()"
   ]
  },
  {
   "cell_type": "code",
   "execution_count": null,
   "id": "24503ccb-2991-4b3d-a4e4-022dd52337a3",
   "metadata": {},
   "outputs": [],
   "source": [
    "(complaints[(complaints[\"Service\"] == \"Banking\") & (complaints[\"Timely response?\"] == \"Yes\")][\"Complaint ID\"].count()*100/complaints[complaints[\"Service\"] == \"Banking\"][\"Complaint ID\"].count()).round(2)"
   ]
  },
  {
   "cell_type": "markdown",
   "id": "b4f16f82-6b37-43bd-a2e5-0c85967c2e5e",
   "metadata": {},
   "source": [
    "#### 29. Disputed Banking Complaints"
   ]
  },
  {
   "cell_type": "code",
   "execution_count": null,
   "id": "530673b0-6e82-43c4-b829-a799d2aedc30",
   "metadata": {},
   "outputs": [],
   "source": [
    "complaints[(complaints[\"Service\"] == \"Banking\") & (complaints[\"Consumer disputed?\"] == \"Yes\")][\"Complaint ID\"].count()"
   ]
  },
  {
   "cell_type": "code",
   "execution_count": null,
   "id": "57d1e321-87c5-4ece-9b02-45012c5a0e6f",
   "metadata": {},
   "outputs": [],
   "source": [
    "complaints[(complaints[\"Service\"] == \"Banking\") & (complaints[\"Consumer disputed?\"] == \"Yes\")][\"Complaint ID\"].count()"
   ]
  },
  {
   "cell_type": "markdown",
   "id": "7f26e5ec-0ccd-4ae2-ba9e-ab5f40f3a84c",
   "metadata": {},
   "source": [
    "#### 30. Banking Complaints by Year"
   ]
  },
  {
   "cell_type": "code",
   "execution_count": null,
   "id": "a7b90b72-be69-4e07-9720-dbe61184ee61",
   "metadata": {},
   "outputs": [],
   "source": [
    "complaints[complaints[\"Service\"] == \"Banking\"].groupby(\"Year\")[\"Complaint ID\"].count()"
   ]
  },
  {
   "cell_type": "markdown",
   "id": "2b4a92c7-ca78-4739-a75d-2dd0f0bb07db",
   "metadata": {},
   "source": [
    "#### 31. Banking Complaints by State"
   ]
  },
  {
   "cell_type": "code",
   "execution_count": null,
   "id": "d49aba16-1434-46ac-a82f-c5b7f3302923",
   "metadata": {},
   "outputs": [],
   "source": [
    "complaints[complaints[\"Service\"] == \"Banking\"].groupby(\"State\")[\"Complaint ID\"].count()"
   ]
  },
  {
   "cell_type": "markdown",
   "id": "622ea95c-16f6-4772-941f-e36cbae20afc",
   "metadata": {},
   "source": [
    "#### 32. Banking Complaints by Issue"
   ]
  },
  {
   "cell_type": "code",
   "execution_count": null,
   "id": "120b1857-c945-441a-8cfd-161c38f49ba3",
   "metadata": {},
   "outputs": [],
   "source": [
    "complaints[complaints[\"Service\"] == \"Banking\"].groupby(\"Issue\")[\"Complaint ID\"].count()"
   ]
  },
  {
   "cell_type": "markdown",
   "id": "cc71992c-0bd4-4f61-9da2-be16d1bd3db6",
   "metadata": {},
   "source": [
    "#### 33. Banking Complaints by Consumer Consent Provided?"
   ]
  },
  {
   "cell_type": "code",
   "execution_count": null,
   "id": "2b459a35-bbcb-4063-a2f1-a758e2c965a3",
   "metadata": {},
   "outputs": [],
   "source": [
    "complaints[complaints[\"Service\"] == \"Banking\"].groupby(\"Consumer consent provided?\")[\"Complaint ID\"].count()"
   ]
  },
  {
   "cell_type": "markdown",
   "id": "e645517a-401c-4c92-94ec-f3cf3068b10a",
   "metadata": {},
   "source": [
    "#### 34. Banking Complaints by Submitted Via"
   ]
  },
  {
   "cell_type": "code",
   "execution_count": null,
   "id": "2d3a52d7-2025-41a5-b34b-42a551aecdaf",
   "metadata": {},
   "outputs": [],
   "source": [
    "complaints[complaints[\"Service\"] == \"Banking\"].groupby(\"Submitted via\")[\"Complaint ID\"].count()"
   ]
  },
  {
   "cell_type": "code",
   "execution_count": null,
   "id": "4afc4378-3ab8-4a56-aa87-7b86a539905f",
   "metadata": {},
   "outputs": [],
   "source": [
    "(complaints[complaints[\"Service\"] == \"Banking\"].groupby(\"Submitted via\")[\"Complaint ID\"].count()*100/complaints[complaints[\"Service\"] == \"Banking\"][\"Complaint ID\"].count()).round(2)"
   ]
  },
  {
   "cell_type": "markdown",
   "id": "136d5d9f-ea02-43fe-8a9c-591e3fdb713c",
   "metadata": {},
   "source": [
    "#### 35. Banking Complaints by Consumer Disputed?"
   ]
  },
  {
   "cell_type": "code",
   "execution_count": null,
   "id": "955dd89b-e80f-443a-8554-4b0b9d29f72f",
   "metadata": {},
   "outputs": [],
   "source": [
    "complaints[complaints[\"Service\"] == \"Banking\"].groupby(\"Consumer disputed?\")[\"Complaint ID\"].count()"
   ]
  },
  {
   "cell_type": "code",
   "execution_count": null,
   "id": "6ea705c5-f344-4a96-bfd1-7de2138436be",
   "metadata": {},
   "outputs": [],
   "source": [
    "(complaints[complaints[\"Service\"] == \"Banking\"].groupby(\"Consumer disputed?\")[\"Complaint ID\"].count()*100/complaints[complaints[\"Service\"] == \"Banking\"][\"Complaint ID\"].count()).round(2)"
   ]
  },
  {
   "cell_type": "markdown",
   "id": "31f000c9-dcbf-4697-8147-c14d1d0cef79",
   "metadata": {},
   "source": [
    "#### 36. Banking Complaints by Tags"
   ]
  },
  {
   "cell_type": "code",
   "execution_count": null,
   "id": "a35e241f-ebc7-4ad4-afe4-7634feeabe38",
   "metadata": {},
   "outputs": [],
   "source": [
    "complaints[complaints[\"Service\"] == \"Banking\"].groupby(\"Tags\")[\"Complaint ID\"].count()"
   ]
  },
  {
   "cell_type": "code",
   "execution_count": null,
   "id": "38e037bc-8339-4d87-879c-dcfb54b2cf81",
   "metadata": {},
   "outputs": [],
   "source": [
    "(complaints[complaints[\"Service\"] == \"Banking\"].groupby(\"Tags\")[\"Complaint ID\"].count()*100/complaints[complaints[\"Service\"] == \"Banking\"][\"Complaint ID\"].count()).round(2)"
   ]
  },
  {
   "cell_type": "markdown",
   "id": "028ac481-bda0-4811-802d-8dfb4b2a13a9",
   "metadata": {},
   "source": [
    "#### 37. Total Credit Card Complaints"
   ]
  },
  {
   "cell_type": "code",
   "execution_count": null,
   "id": "14fb6c69-00ca-49f4-b8e5-558b10d5af46",
   "metadata": {},
   "outputs": [],
   "source": [
    "complaints[complaints[\"Service\"] == \"Credit Card\"][\"Complaint ID\"].count()"
   ]
  },
  {
   "cell_type": "markdown",
   "id": "30e2ab6d-b0aa-4fdf-be53-6e7c9dcb9e4b",
   "metadata": {},
   "source": [
    "#### 38. Closed Credit Card Complaints"
   ]
  },
  {
   "cell_type": "code",
   "execution_count": null,
   "id": "c696f6bb-f905-474b-ac71-fb2afb74888e",
   "metadata": {},
   "outputs": [],
   "source": [
    "complaints[(complaints[\"Service\"] == \"Credit Card\") & (complaints[\"Progress\"] == \"Closed\")][\"Complaint ID\"].count()"
   ]
  },
  {
   "cell_type": "code",
   "execution_count": null,
   "id": "aa6150ab-561e-43a8-98b4-8139da992b3c",
   "metadata": {},
   "outputs": [],
   "source": [
    "(complaints[(complaints[\"Service\"] == \"Credit Card\") & (complaints[\"Progress\"] == \"Closed\")][\"Complaint ID\"].count()*100/complaints[complaints[\"Service\"] == \"Credit Card\"][\"Complaint ID\"].count()).round(2)"
   ]
  },
  {
   "cell_type": "markdown",
   "id": "d36a2565-1fec-4326-b538-5551005d81d0",
   "metadata": {},
   "source": [
    "#### 39. Pending Credit Card Complaints"
   ]
  },
  {
   "cell_type": "code",
   "execution_count": null,
   "id": "5498fcb3-af7e-4a22-b2b9-d70b57580cc5",
   "metadata": {},
   "outputs": [],
   "source": [
    "complaints[(complaints[\"Service\"] == \"Credit Card\") & (complaints[\"Progress\"] == \"Pending\")][\"Complaint ID\"].count()"
   ]
  },
  {
   "cell_type": "code",
   "execution_count": null,
   "id": "0d0d737c-d3ed-47b9-8699-ea0b13befc13",
   "metadata": {},
   "outputs": [],
   "source": [
    "(complaints[(complaints[\"Service\"] == \"Credit Card\") & (complaints[\"Progress\"] == \"Pending\")][\"Complaint ID\"].count()*100/complaints[complaints[\"Service\"] == \"Credit Card\"][\"Complaint ID\"].count()).round(2)"
   ]
  },
  {
   "cell_type": "markdown",
   "id": "bd4af402-d386-4023-8bd8-7fd01017888f",
   "metadata": {},
   "source": [
    "#### 40. Timely Responded Credit Card Complaints"
   ]
  },
  {
   "cell_type": "code",
   "execution_count": null,
   "id": "1e8e95b8-f3cd-41b7-8c96-6c1c5adda533",
   "metadata": {},
   "outputs": [],
   "source": [
    "complaints[(complaints[\"Service\"] == \"Credit Card\") & (complaints[\"Timely response?\"] == \"Yes\")][\"Complaint ID\"].count()"
   ]
  },
  {
   "cell_type": "code",
   "execution_count": null,
   "id": "d07456e8-dd26-44b7-8c2d-5730f313e69b",
   "metadata": {},
   "outputs": [],
   "source": [
    "(complaints[(complaints[\"Service\"] == \"Credit Card\") & (complaints[\"Timely response?\"] == \"Yes\")][\"Complaint ID\"].count()*100/complaints[complaints[\"Service\"] == \"Credit Card\"][\"Complaint ID\"].count()).round(2)"
   ]
  },
  {
   "cell_type": "markdown",
   "id": "b5797627-4f10-4a11-84f8-b81929e63fa1",
   "metadata": {},
   "source": [
    "#### 41. Disputed Credit Card Complaints"
   ]
  },
  {
   "cell_type": "code",
   "execution_count": null,
   "id": "4a6de702-2726-4561-8727-e8aef965d1a1",
   "metadata": {},
   "outputs": [],
   "source": [
    "complaints[(complaints[\"Service\"] == \"Credit Card\") & (complaints[\"Consumer disputed?\"] == \"Yes\")][\"Complaint ID\"].count()"
   ]
  },
  {
   "cell_type": "code",
   "execution_count": null,
   "id": "f876a934-9e8b-4180-8e1d-e32049443383",
   "metadata": {},
   "outputs": [],
   "source": [
    "(complaints[(complaints[\"Service\"] == \"Credit Card\") & (complaints[\"Consumer disputed?\"] == \"Yes\")][\"Complaint ID\"].count()*100/complaints[complaints[\"Service\"] == \"Credit Card\"][\"Complaint ID\"].count()).round(2)"
   ]
  },
  {
   "cell_type": "markdown",
   "id": "2ee23c64-3d27-4568-b53b-40faa96f2d39",
   "metadata": {},
   "source": [
    "#### 42. Credit Card Complaints by Year"
   ]
  },
  {
   "cell_type": "code",
   "execution_count": null,
   "id": "3a5aebab-076b-4ad7-bbe4-f8e718d246b8",
   "metadata": {},
   "outputs": [],
   "source": [
    "complaints[complaints[\"Service\"] == \"Credit Card\"].groupby(\"Year\")[\"Complaint ID\"].count()"
   ]
  },
  {
   "cell_type": "markdown",
   "id": "b17e4aa0-fa33-42bf-9f28-9e9ad2a8554b",
   "metadata": {},
   "source": [
    "#### 43. Credit Card Complaints by State"
   ]
  },
  {
   "cell_type": "code",
   "execution_count": null,
   "id": "68b44809-5a81-4bdb-941d-45f253abfb1e",
   "metadata": {},
   "outputs": [],
   "source": [
    "complaints[complaints[\"Service\"] == \"Credit Card\"].groupby(\"State\")[\"Complaint ID\"].count()"
   ]
  },
  {
   "cell_type": "markdown",
   "id": "089f397f-a763-4d37-b85b-49e62bb00fd2",
   "metadata": {},
   "source": [
    "#### 44. Credit Card Complaints by Issue"
   ]
  },
  {
   "cell_type": "code",
   "execution_count": null,
   "id": "21fe1f32-85c6-4a9c-9435-56dda39652fb",
   "metadata": {},
   "outputs": [],
   "source": [
    "complaints[complaints[\"Service\"] == \"Credit Card\"].groupby(\"Issue\")[\"Complaint ID\"].count()"
   ]
  },
  {
   "cell_type": "markdown",
   "id": "da49537e-1129-4910-a2b9-e4bacb377472",
   "metadata": {},
   "source": [
    "#### 45. Credit Card Complaints by Consumer Consent Provided?"
   ]
  },
  {
   "cell_type": "code",
   "execution_count": null,
   "id": "04f4c1ce-76ec-4018-9376-440e616fd1ae",
   "metadata": {},
   "outputs": [],
   "source": [
    "complaints[complaints[\"Service\"] == \"Credit Card\"].groupby(\"Consumer consent provided?\")[\"Complaint ID\"].count()"
   ]
  },
  {
   "cell_type": "markdown",
   "id": "227b4105-92d5-4b54-b0df-f3031e3f4022",
   "metadata": {},
   "source": [
    "#### 46. Credit Card Complaints by Submitted Via"
   ]
  },
  {
   "cell_type": "code",
   "execution_count": null,
   "id": "dfbd1d77-909b-4dc5-bd91-358e78116c96",
   "metadata": {},
   "outputs": [],
   "source": [
    "complaints[complaints[\"Service\"] == \"Credit Card\"].groupby(\"Submitted via\")[\"Complaint ID\"].count()"
   ]
  },
  {
   "cell_type": "code",
   "execution_count": null,
   "id": "35ba33b5-b010-4a45-9250-bbc8c5ebff73",
   "metadata": {},
   "outputs": [],
   "source": [
    "(complaints[complaints[\"Service\"] == \"Credit Card\"].groupby(\"Submitted via\")[\"Complaint ID\"].count()*100/complaints[complaints[\"Service\"] == \"Credit Card\"][\"Complaint ID\"].count()).round(2)"
   ]
  },
  {
   "cell_type": "markdown",
   "id": "e8610354-0498-49c5-92cd-b588017eefbd",
   "metadata": {},
   "source": [
    "#### 47. Credit Card Complaints by Consumer Disputed?"
   ]
  },
  {
   "cell_type": "code",
   "execution_count": null,
   "id": "a3560d6b-df50-492c-8bb0-47def3b5c2f4",
   "metadata": {},
   "outputs": [],
   "source": [
    "complaints[complaints[\"Service\"] == \"Credit Card\"].groupby(\"Consumer disputed?\")[\"Complaint ID\"].count()"
   ]
  },
  {
   "cell_type": "code",
   "execution_count": null,
   "id": "10dfc370-098f-40ec-b66d-5126f7b4b8ca",
   "metadata": {},
   "outputs": [],
   "source": [
    "(complaints[complaints[\"Service\"] == \"Credit Card\"].groupby(\"Consumer disputed?\")[\"Complaint ID\"].count()*100/complaints[complaints[\"Service\"] == \"Credit Card\"][\"Complaint ID\"].count()).round(2)"
   ]
  },
  {
   "cell_type": "markdown",
   "id": "164e0b28-be57-44c1-a040-9d4b5ef74a77",
   "metadata": {},
   "source": [
    "#### 48. Credit Card Complaints by Tags"
   ]
  },
  {
   "cell_type": "code",
   "execution_count": null,
   "id": "79ded2b8-5187-4cf8-a0cc-15b0958107f4",
   "metadata": {},
   "outputs": [],
   "source": [
    "complaints[complaints[\"Service\"] == \"Credit Card\"].groupby(\"Tags\")[\"Complaint ID\"].count()"
   ]
  },
  {
   "cell_type": "code",
   "execution_count": null,
   "id": "5048b8a3-8736-4f0a-ad35-81f255f802db",
   "metadata": {},
   "outputs": [],
   "source": [
    "(complaints[complaints[\"Service\"] == \"Credit Card\"].groupby(\"Tags\")[\"Complaint ID\"].count()*100/complaints[complaints[\"Service\"] == \"Credit Card\"][\"Complaint ID\"].count()).round(2)"
   ]
  },
  {
   "cell_type": "markdown",
   "id": "b47e5b70-dd0a-410a-bd8e-3703425a4a81",
   "metadata": {},
   "source": [
    "#### 49. Total Mortgage Complaints"
   ]
  },
  {
   "cell_type": "code",
   "execution_count": null,
   "id": "e487c453-a1fa-4120-8701-c2959d545225",
   "metadata": {},
   "outputs": [],
   "source": [
    "complaints[complaints[\"Service\"] == \"Mortgage\"][\"Complaint ID\"].count()"
   ]
  },
  {
   "cell_type": "markdown",
   "id": "a532955f-47d1-4675-b354-d0c639dabfe4",
   "metadata": {},
   "source": [
    "#### 50. Closed Mortgage Complaints"
   ]
  },
  {
   "cell_type": "code",
   "execution_count": null,
   "id": "b2ebe98a-ff2f-4d65-ae03-006de397d5f2",
   "metadata": {},
   "outputs": [],
   "source": [
    "complaints[(complaints[\"Service\"] == \"Mortgage\") & (complaints[\"Progress\"] == \"Closed\")][\"Complaint ID\"].count()"
   ]
  },
  {
   "cell_type": "code",
   "execution_count": null,
   "id": "df4a5912-2e99-46e5-91c3-8cf0b054a684",
   "metadata": {},
   "outputs": [],
   "source": [
    "(complaints[(complaints[\"Service\"] == \"Mortgage\") & (complaints[\"Progress\"] == \"Closed\")][\"Complaint ID\"].count()*100/complaints[complaints[\"Service\"] == \"Mortgage\"][\"Complaint ID\"].count()).round(2)"
   ]
  },
  {
   "cell_type": "markdown",
   "id": "7669c515-6b05-46d2-97c1-6cf7cef78ed8",
   "metadata": {},
   "source": [
    "#### 51. Pending Mortgage Complaints"
   ]
  },
  {
   "cell_type": "code",
   "execution_count": null,
   "id": "1b517180-f9be-4eb8-aa58-565ee7a171a6",
   "metadata": {},
   "outputs": [],
   "source": [
    "complaints[(complaints[\"Service\"] == \"Mortgage\") & (complaints[\"Progress\"] == \"Pending\")][\"Complaint ID\"].count()"
   ]
  },
  {
   "cell_type": "code",
   "execution_count": null,
   "id": "b76a334e-d805-4cfe-ba62-2b9104811b0f",
   "metadata": {},
   "outputs": [],
   "source": [
    "(complaints[(complaints[\"Service\"] == \"Mortgage\") & (complaints[\"Progress\"] == \"Pending\")][\"Complaint ID\"].count()*100/complaints[complaints[\"Service\"] == \"Mortgage\"][\"Complaint ID\"].count()).round(2)"
   ]
  },
  {
   "cell_type": "markdown",
   "id": "59646992-4c43-4831-aeee-c2e350b2ea0a",
   "metadata": {},
   "source": [
    "#### 52. Timely Responded Mortgage Complaints"
   ]
  },
  {
   "cell_type": "code",
   "execution_count": null,
   "id": "33bedd8e-9c25-45b3-ae81-5e390f0f3fe3",
   "metadata": {},
   "outputs": [],
   "source": [
    "complaints[(complaints[\"Service\"] == \"Mortgage\") & (complaints[\"Timely response?\"] == \"Yes\")][\"Complaint ID\"].count()"
   ]
  },
  {
   "cell_type": "code",
   "execution_count": null,
   "id": "a5a71947-78bb-4740-8f8f-446c6e8017a6",
   "metadata": {},
   "outputs": [],
   "source": [
    "(complaints[(complaints[\"Service\"] == \"Mortgage\") & (complaints[\"Timely response?\"] == \"Yes\")][\"Complaint ID\"].count()*100/complaints[complaints[\"Service\"] == \"Mortgage\"][\"Complaint ID\"].count()).round(2)"
   ]
  },
  {
   "cell_type": "markdown",
   "id": "9d951084-1c95-47b1-b6f0-164c278f2ebf",
   "metadata": {},
   "source": [
    "#### 53. Disputed Mortgage Complaints"
   ]
  },
  {
   "cell_type": "code",
   "execution_count": null,
   "id": "21a74dd6-0819-4255-9dc6-8994b2c323a7",
   "metadata": {},
   "outputs": [],
   "source": [
    "complaints[(complaints[\"Service\"] == \"Mortgage\") & (complaints[\"Consumer disputed?\"] == \"Yes\")][\"Complaint ID\"].count()"
   ]
  },
  {
   "cell_type": "code",
   "execution_count": null,
   "id": "58745314-f737-4fc8-a3a1-aa329a8edfd2",
   "metadata": {},
   "outputs": [],
   "source": [
    "(complaints[(complaints[\"Service\"] == \"Mortgage\") & (complaints[\"Consumer disputed?\"] == \"Yes\")][\"Complaint ID\"].count()*100/complaints[complaints[\"Service\"] == \"Mortgage\"][\"Complaint ID\"].count()).round(2)"
   ]
  },
  {
   "cell_type": "markdown",
   "id": "2e23e646-2aa5-4e31-95f0-bcf35083c078",
   "metadata": {},
   "source": [
    "#### 54. Mortgage Complaints by Year"
   ]
  },
  {
   "cell_type": "code",
   "execution_count": null,
   "id": "b0eb3187-0bd7-4b11-b2f3-cbdb24a31404",
   "metadata": {},
   "outputs": [],
   "source": [
    "complaints[complaints[\"Service\"] == \"Mortgage\"].groupby(\"Year\")[\"Complaint ID\"].count()"
   ]
  },
  {
   "cell_type": "markdown",
   "id": "d32b8e65-827d-42ab-93d7-fec2ac1a5c16",
   "metadata": {},
   "source": [
    "#### 55. Mortgage Complaints by State"
   ]
  },
  {
   "cell_type": "code",
   "execution_count": null,
   "id": "207177a5-725b-4cc7-88e0-537f6a180dab",
   "metadata": {},
   "outputs": [],
   "source": [
    "complaints[complaints[\"Service\"] == \"Mortgage\"].groupby(\"State\")[\"Complaint ID\"].count()"
   ]
  },
  {
   "cell_type": "markdown",
   "id": "47983c0c-023c-41f1-b88c-d4fc5b1e8084",
   "metadata": {},
   "source": [
    "#### 56. Mortgage Complaints by Issue"
   ]
  },
  {
   "cell_type": "code",
   "execution_count": null,
   "id": "6b5cd4e9-78c9-4a46-9288-355ef3c01697",
   "metadata": {},
   "outputs": [],
   "source": [
    "complaints[complaints[\"Service\"] == \"Mortgage\"].groupby(\"Issue\")[\"Complaint ID\"].count()"
   ]
  },
  {
   "cell_type": "markdown",
   "id": "43110387-a878-4ea1-8e18-f8566a8126f4",
   "metadata": {},
   "source": [
    "#### 57. Mortgage Complaints by Consumer Consent Provided?"
   ]
  },
  {
   "cell_type": "code",
   "execution_count": null,
   "id": "9c1a402a-6362-42a6-bac4-2f7f007c4f1a",
   "metadata": {},
   "outputs": [],
   "source": [
    "complaints[complaints[\"Service\"] == \"Mortgage\"].groupby(\"Consumer consent provided?\")[\"Complaint ID\"].count()"
   ]
  },
  {
   "cell_type": "markdown",
   "id": "51d442f8-7b4a-4621-a7cd-19343a6d6ede",
   "metadata": {},
   "source": [
    "#### 58. Mortgage Complaints by Submitted Via"
   ]
  },
  {
   "cell_type": "code",
   "execution_count": null,
   "id": "9a179c2f-d0a8-4e58-8594-dcfba975b559",
   "metadata": {},
   "outputs": [],
   "source": [
    "complaints[complaints[\"Service\"] == \"Mortgage\"].groupby(\"Submitted via\")[\"Complaint ID\"].count()"
   ]
  },
  {
   "cell_type": "code",
   "execution_count": null,
   "id": "f886cafc-b245-441d-b349-4ca055f73f0f",
   "metadata": {},
   "outputs": [],
   "source": [
    "(complaints[complaints[\"Service\"] == \"Mortgage\"].groupby(\"Submitted via\")[\"Complaint ID\"].count()*100/complaints[complaints[\"Service\"] == \"Mortgage\"][\"Complaint ID\"].count()).round(2)"
   ]
  },
  {
   "cell_type": "markdown",
   "id": "4dd64b45-68d0-4cab-a7e3-559167596eb9",
   "metadata": {},
   "source": [
    "#### 59. Mortgage Complaints by Consumer Disputed?"
   ]
  },
  {
   "cell_type": "code",
   "execution_count": null,
   "id": "ee6f92bb-f1a8-4846-b42f-cb7f88844060",
   "metadata": {},
   "outputs": [],
   "source": [
    "complaints[complaints[\"Service\"] == \"Mortgage\"].groupby(\"Consumer disputed?\")[\"Complaint ID\"].count()"
   ]
  },
  {
   "cell_type": "code",
   "execution_count": null,
   "id": "741c7dc8-177f-4225-adf6-d5dd0348c65a",
   "metadata": {},
   "outputs": [],
   "source": [
    "(complaints[complaints[\"Service\"] == \"Mortgage\"].groupby(\"Consumer disputed?\")[\"Complaint ID\"].count()*100/complaints[complaints[\"Service\"] == \"Mortgage\"][\"Complaint ID\"].count()).round(2)"
   ]
  },
  {
   "cell_type": "markdown",
   "id": "15b57693-c4a4-424e-b79d-d75b3f9586a0",
   "metadata": {},
   "source": [
    "#### 60. Mortgage Complaints by Tags"
   ]
  },
  {
   "cell_type": "code",
   "execution_count": null,
   "id": "a1afcc87-9186-4b6b-9443-c3bf0d3a108b",
   "metadata": {},
   "outputs": [],
   "source": [
    "complaints[complaints[\"Service\"] == \"Mortgage\"].groupby(\"Tags\")[\"Complaint ID\"].count()"
   ]
  },
  {
   "cell_type": "code",
   "execution_count": null,
   "id": "a1282a9a-7d66-4bc7-8c99-eae80feda7e1",
   "metadata": {},
   "outputs": [],
   "source": [
    "(complaints[complaints[\"Service\"] == \"Mortgage\"].groupby(\"Tags\")[\"Complaint ID\"].count()*100/complaints[complaints[\"Service\"] == \"Mortgage\"][\"Complaint ID\"].count()).round(2)"
   ]
  }
 ],
 "metadata": {
  "kernelspec": {
   "display_name": "Python 3 (ipykernel)",
   "language": "python",
   "name": "python3"
  },
  "language_info": {
   "codemirror_mode": {
    "name": "ipython",
    "version": 3
   },
   "file_extension": ".py",
   "mimetype": "text/x-python",
   "name": "python",
   "nbconvert_exporter": "python",
   "pygments_lexer": "ipython3",
   "version": "3.12.4"
  }
 },
 "nbformat": 4,
 "nbformat_minor": 5
}
