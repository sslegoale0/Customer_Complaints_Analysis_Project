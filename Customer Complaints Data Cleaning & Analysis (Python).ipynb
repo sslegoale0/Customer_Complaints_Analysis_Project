{
 "cells": [
  {
   "cell_type": "markdown",
   "id": "e026d648-0b16-46d6-866f-824a7f39dd62",
   "metadata": {},
   "source": [
    "Customer Complaints Data Cleaning."
   ]
  },
  {
   "cell_type": "code",
   "execution_count": null,
   "id": "6e9289eb-ff44-410b-aa12-285cc95a0256",
   "metadata": {},
   "outputs": [],
   "source": [
    "#importing python libraries for data analysis."
   ]
  },
  {
   "cell_type": "code",
   "execution_count": null,
   "id": "34d7dc56-dd68-4816-adc3-36670c8b6861",
   "metadata": {},
   "outputs": [],
   "source": [
    "import numpy as np\n",
    "import pandas as pd\n",
    "import matplotlib.pyplot as plt\n",
    "import seaborn as sns"
   ]
  },
  {
   "cell_type": "code",
   "execution_count": null,
   "id": "3a519674-ccdf-43fa-a0f5-4facf04fb06b",
   "metadata": {},
   "outputs": [],
   "source": [
    "#reading in customer complaints excel data into python."
   ]
  },
  {
   "cell_type": "code",
   "execution_count": null,
   "id": "9f2e842d-6cc5-4412-b662-02726e21f0dd",
   "metadata": {},
   "outputs": [],
   "source": [
    "complaints = pd.read_excel(\"Customer Complaints Data.xlsx\")"
   ]
  },
  {
   "cell_type": "code",
   "execution_count": null,
   "id": "629c3ba1-3dcf-4419-8a69-221e911c92ce",
   "metadata": {},
   "outputs": [],
   "source": [
    "#first five rows of the dataframe"
   ]
  },
  {
   "cell_type": "code",
   "execution_count": null,
   "id": "9a2c10b3-adcf-4e16-81c1-34d4fc690055",
   "metadata": {},
   "outputs": [],
   "source": [
    "complaints.head()"
   ]
  },
  {
   "cell_type": "code",
   "execution_count": null,
   "id": "4b34b33a-8b95-4676-9aa8-63e0f3c77b2e",
   "metadata": {},
   "outputs": [],
   "source": [
    "complaints.info()"
   ]
  },
  {
   "cell_type": "code",
   "execution_count": null,
   "id": "3c7d0822-4e3f-4b22-ad73-d45170169d3c",
   "metadata": {},
   "outputs": [],
   "source": [
    "#1. removing duplicates"
   ]
  },
  {
   "cell_type": "code",
   "execution_count": null,
   "id": "dd61b359-7367-4fc4-a4c2-587e597a8d39",
   "metadata": {},
   "outputs": [],
   "source": [
    "complaints[\"Complaint ID\"].nunique()"
   ]
  },
  {
   "cell_type": "code",
   "execution_count": null,
   "id": "12d1706a-e280-489f-b755-4398342b42a6",
   "metadata": {},
   "outputs": [],
   "source": [
    "#since complaint id is unique, then it is safe to say that each row in the dataframe is also unique."
   ]
  },
  {
   "cell_type": "code",
   "execution_count": null,
   "id": "13ac60d3-a887-4fff-aab1-c76e6e8d38a8",
   "metadata": {},
   "outputs": [],
   "source": [
    "#2. formatting the data"
   ]
  },
  {
   "cell_type": "code",
   "execution_count": null,
   "id": "4eacb9cb-60ed-4ecc-a428-fb3d8f312154",
   "metadata": {},
   "outputs": [],
   "source": [
    "complaints[\"Company\"].unique()"
   ]
  },
  {
   "cell_type": "code",
   "execution_count": null,
   "id": "460bbe6a-733c-40c3-bc45-d39e14bb9e99",
   "metadata": {},
   "outputs": [],
   "source": [
    "complaints[\"Company\"].nunique()"
   ]
  },
  {
   "cell_type": "code",
   "execution_count": null,
   "id": "679dca4f-d4c4-44bc-b6a6-f27d43c98f28",
   "metadata": {},
   "outputs": [],
   "source": [
    "#company name is the same for each row."
   ]
  },
  {
   "cell_type": "code",
   "execution_count": null,
   "id": "f8060d60-74e9-4f46-a469-cccc32b025be",
   "metadata": {},
   "outputs": [],
   "source": [
    "complaints[\"Company public response\"].unique()"
   ]
  },
  {
   "cell_type": "code",
   "execution_count": null,
   "id": "1739d16c-fcf3-440a-88a0-16780451440a",
   "metadata": {},
   "outputs": [],
   "source": [
    "complaints[\"Company public response\"].isna().sum()"
   ]
  },
  {
   "cell_type": "code",
   "execution_count": null,
   "id": "46eda52b-7c3e-4374-acf6-e4a71ecde62e",
   "metadata": {},
   "outputs": [],
   "source": [
    "#there were 48178 null values for the \"Company public response\" column. Honestly, I do not this column of interest to me, so I'm dropping it."
   ]
  },
  {
   "cell_type": "code",
   "execution_count": null,
   "id": "188a4049-ab3d-4955-8d7e-fbfef60e0499",
   "metadata": {},
   "outputs": [],
   "source": [
    "complaints = complaints.drop(\"Company public response\", axis = 1)"
   ]
  },
  {
   "cell_type": "code",
   "execution_count": null,
   "id": "d7e427d0-41a0-41cc-b4b5-81f4f3678e92",
   "metadata": {},
   "outputs": [],
   "source": [
    "complaints"
   ]
  },
  {
   "cell_type": "code",
   "execution_count": null,
   "id": "fc5676ce-e65c-42bb-bf94-00875f2bf465",
   "metadata": {},
   "outputs": [],
   "source": [
    "complaints[\"Company response to consumer\"].unique()"
   ]
  },
  {
   "cell_type": "code",
   "execution_count": null,
   "id": "5e51c823-bc2a-4d77-997c-cf9b4c41d28d",
   "metadata": {},
   "outputs": [],
   "source": [
    "complaints[\"Company response to consumer\"].isna().sum()"
   ]
  },
  {
   "cell_type": "code",
   "execution_count": null,
   "id": "b3e84140-9bc0-4cc0-ad2e-f6dbe19e939e",
   "metadata": {},
   "outputs": [],
   "source": [
    "#grouping all closed complaints to \"Closed\" and in progress to \"Pending\"."
   ]
  },
  {
   "cell_type": "code",
   "execution_count": null,
   "id": "da4166d8-2af7-4cc5-9487-4b6c3f721083",
   "metadata": {},
   "outputs": [],
   "source": [
    "complaints[\"Progress\"] = np.where(complaints[\"Company response to consumer\"].str.contains(\"Closed\"), \"Closed\", np.where(complaints[\"Company response to consumer\"] == \"Untimely response\", \"Closed\", \"Pending\"))"
   ]
  },
  {
   "cell_type": "code",
   "execution_count": null,
   "id": "86db31c5-0a63-4644-9896-2bc3441cb69e",
   "metadata": {},
   "outputs": [],
   "source": [
    "complaints[[\"Company response to consumer\", \"Progress\"]].drop_duplicates(\"Company response to consumer\")"
   ]
  },
  {
   "cell_type": "code",
   "execution_count": null,
   "id": "7ddaa09c-7ee8-4320-8d3f-6ac58d1040e2",
   "metadata": {},
   "outputs": [],
   "source": [
    "complaints.columns"
   ]
  },
  {
   "cell_type": "code",
   "execution_count": null,
   "id": "99167a5d-d6df-4992-9b09-d026a190c703",
   "metadata": {},
   "outputs": [],
   "source": [
    "complaints[\"Consumer consent provided?\"].unique()"
   ]
  },
  {
   "cell_type": "code",
   "execution_count": null,
   "id": "378c18d5-b5ef-4bae-8a95-d533a448c57a",
   "metadata": {},
   "outputs": [],
   "source": [
    "complaints[\"Consumer consent provided?\"].isna().sum()"
   ]
  },
  {
   "cell_type": "code",
   "execution_count": null,
   "id": "020aa8ae-3227-48ae-a75f-a1563ad3542c",
   "metadata": {},
   "outputs": [],
   "source": [
    "complaints[\"Consumer disputed?\"].unique()"
   ]
  },
  {
   "cell_type": "code",
   "execution_count": null,
   "id": "9c291739-a2a3-4e89-a90f-2ad8de7bba10",
   "metadata": {},
   "outputs": [],
   "source": [
    "complaints[\"Consumer disputed?\"].isna().sum()"
   ]
  },
  {
   "cell_type": "code",
   "execution_count": null,
   "id": "e58dcd28-0ba5-4ade-9376-694e9cbeb5d2",
   "metadata": {},
   "outputs": [],
   "source": [
    "complaints[\"Date Received\"].unique()"
   ]
  },
  {
   "cell_type": "code",
   "execution_count": null,
   "id": "88db5f10-f84d-4a33-baf8-ea6a6589db87",
   "metadata": {},
   "outputs": [],
   "source": [
    "complaints[\"Date Submitted\"].unique()"
   ]
  },
  {
   "cell_type": "code",
   "execution_count": null,
   "id": "5a36dda6-1658-49c0-9f34-d9c48773762e",
   "metadata": {},
   "outputs": [],
   "source": [
    "complaints[\"Issue\"].unique()"
   ]
  },
  {
   "cell_type": "code",
   "execution_count": null,
   "id": "d251f301-d43c-4b2d-b5f3-0ca27f8c6e2b",
   "metadata": {},
   "outputs": [],
   "source": [
    "complaints[\"Issue\"].isna().sum()"
   ]
  },
  {
   "cell_type": "code",
   "execution_count": null,
   "id": "40117cef-adc6-4f8d-9b43-b6d0028154a9",
   "metadata": {},
   "outputs": [],
   "source": [
    "complaints[\"Product\"].unique()"
   ]
  },
  {
   "cell_type": "code",
   "execution_count": null,
   "id": "68190617-068c-4039-a477-ca72dccfeb7c",
   "metadata": {},
   "outputs": [],
   "source": [
    "def func(complaints):\n",
    "    if complaints['Product'] == \"Bank account or service\":\n",
    "        return 'Account'\n",
    "    elif complaints['Product'] == \"Checking or savings account\":\n",
    "        return 'Account'\n",
    "    elif complaints['Product'] == \"Debt Collection\":\n",
    "        return 'Banking'\n",
    "    elif complaints['Product'] == \"Student loan\":\n",
    "        return 'Banking'\n",
    "    elif complaints['Product'] == \"Vehicle loan or lease\":\n",
    "        return 'Banking'\n",
    "    elif complaints['Product'] == \"Credit card or prepaid card\":\n",
    "        return 'Credit Card'\n",
    "    elif complaints['Product'] == \"Credit card\":\n",
    "        return 'Credit Card'\n",
    "    else:\n",
    "        return 'Mortgage'\n",
    "\n",
    "complaints[\"Service\"] = complaints.apply(func, axis=1)"
   ]
  },
  {
   "cell_type": "code",
   "execution_count": null,
   "id": "68173bc4-aca3-4cdc-a8c9-6c2fa04e6b8f",
   "metadata": {},
   "outputs": [],
   "source": [
    "complaints[[\"Product\", \"Service\"]].drop_duplicates(\"Product\").sort_values(by=\"Service\")"
   ]
  },
  {
   "cell_type": "code",
   "execution_count": null,
   "id": "51692ade-7396-461b-b203-d43b0bdd9f7a",
   "metadata": {},
   "outputs": [],
   "source": [
    "complaints.columns"
   ]
  },
  {
   "cell_type": "code",
   "execution_count": null,
   "id": "58b1cd6e-1b74-49d0-b7a3-072cdf75693d",
   "metadata": {},
   "outputs": [],
   "source": [
    "complaints[\"State\"].unique()"
   ]
  },
  {
   "cell_type": "code",
   "execution_count": null,
   "id": "fafa42d4-aded-4d28-be0d-07f4f4dac4de",
   "metadata": {},
   "outputs": [],
   "source": [
    "complaints[\"Sub-issue\"].unique()"
   ]
  },
  {
   "cell_type": "code",
   "execution_count": null,
   "id": "d818d6cc-51a3-429f-b65a-c4c9f415d0b2",
   "metadata": {},
   "outputs": [],
   "source": [
    "complaints[\"Sub-issue\"].isna().sum()"
   ]
  },
  {
   "cell_type": "code",
   "execution_count": null,
   "id": "9961db49-3152-4d2d-a5a2-e04d518a4009",
   "metadata": {},
   "outputs": [],
   "source": [
    "complaints[\"Sub-product\"].unique()"
   ]
  },
  {
   "cell_type": "code",
   "execution_count": null,
   "id": "5361929d-1337-4aba-a50c-b2059f4ee985",
   "metadata": {},
   "outputs": [],
   "source": [
    "complaints[\"Sub-product\"].isna().sum()"
   ]
  },
  {
   "cell_type": "code",
   "execution_count": null,
   "id": "22f5f1e9-9878-462f-8cd3-9ad4e64fe0c6",
   "metadata": {},
   "outputs": [],
   "source": [
    "complaints[\"Submitted via\"].unique()"
   ]
  },
  {
   "cell_type": "code",
   "execution_count": null,
   "id": "8b1b1638-8845-4445-9cdf-a6b82886de81",
   "metadata": {},
   "outputs": [],
   "source": [
    "complaints[\"Tags\"].unique()"
   ]
  },
  {
   "cell_type": "code",
   "execution_count": null,
   "id": "2be9af36-dfb9-4f85-a8e3-847fcf78ff41",
   "metadata": {},
   "outputs": [],
   "source": [
    "complaints[\"Tags\"].isna().sum()"
   ]
  },
  {
   "cell_type": "code",
   "execution_count": null,
   "id": "6d728d70-9dbe-4a8d-88de-64e41d8d17f3",
   "metadata": {},
   "outputs": [],
   "source": [
    "complaints[\"Timely response?\"].unique()"
   ]
  },
  {
   "cell_type": "code",
   "execution_count": null,
   "id": "a4ac9719-e73e-41e1-8764-7223306c9c33",
   "metadata": {},
   "outputs": [],
   "source": [
    "complaints[\"ZIP code\"].unique()"
   ]
  },
  {
   "cell_type": "code",
   "execution_count": null,
   "id": "7f6f4102-d6e4-47ec-b2f8-7c8676571e86",
   "metadata": {},
   "outputs": [],
   "source": [
    "complaints[\"Number of Complaints\"].unique()"
   ]
  },
  {
   "cell_type": "code",
   "execution_count": null,
   "id": "dc42bbc2-9462-486a-b501-0bd3280932be",
   "metadata": {},
   "outputs": [],
   "source": [
    "complaints[\"Target\"].unique()"
   ]
  },
  {
   "cell_type": "code",
   "execution_count": null,
   "id": "9feec1f5-0518-48fd-98aa-57252d7ef831",
   "metadata": {},
   "outputs": [],
   "source": [
    "complaints = complaints.drop(columns = [\"All Complaints (Selected)\", \"Number of Complaints\", \"Target\"])"
   ]
  },
  {
   "cell_type": "code",
   "execution_count": null,
   "id": "a7c4ad2f-2aa0-475e-b5cd-e218bdfbeb75",
   "metadata": {},
   "outputs": [],
   "source": [
    "complaints[\"Time to Receipt\"].sort_values().unique()"
   ]
  },
  {
   "cell_type": "code",
   "execution_count": null,
   "id": "9b806c7e-dafb-4709-ae83-fbc4e04d9708",
   "metadata": {},
   "outputs": [],
   "source": [
    "complaints[\"Date Diff\"] = (complaints[\"Date Received\"] - complaints[\"Date Submitted\"])\n",
    "complaints[[\"Time to Receipt\", \"Date Diff\"]].sort_values(by=\"Time to Receipt\").drop_duplicates()"
   ]
  },
  {
   "cell_type": "code",
   "execution_count": null,
   "id": "ebf94558-5404-43a6-97f6-a6e873acdd70",
   "metadata": {},
   "outputs": [],
   "source": [
    "complaints[\"Time to Receipt\"][complaints[\"Time to Receipt\"] == -1].count()"
   ]
  },
  {
   "cell_type": "markdown",
   "id": "ccd049f4-8f50-4cff-b9e4-4e89ead84dac",
   "metadata": {},
   "source": [
    "Customer Complaints Data Analysis."
   ]
  },
  {
   "cell_type": "code",
   "execution_count": null,
   "id": "b9a427e5-d996-437d-ad8d-bf60b2218f3f",
   "metadata": {},
   "outputs": [],
   "source": []
  }
 ],
 "metadata": {
  "kernelspec": {
   "display_name": "Python 3 (ipykernel)",
   "language": "python",
   "name": "python3"
  },
  "language_info": {
   "codemirror_mode": {
    "name": "ipython",
    "version": 3
   },
   "file_extension": ".py",
   "mimetype": "text/x-python",
   "name": "python",
   "nbconvert_exporter": "python",
   "pygments_lexer": "ipython3",
   "version": "3.12.4"
  }
 },
 "nbformat": 4,
 "nbformat_minor": 5
}
